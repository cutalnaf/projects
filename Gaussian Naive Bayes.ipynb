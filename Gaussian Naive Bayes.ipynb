{
 "cells": [
  {
   "cell_type": "markdown",
   "metadata": {},
   "source": [
    "### Gaussian Naive Bayes Classification of Iris\n",
    "\n",
    "Earlier we looked at using discretizing bins of the input attributes to calculate the conditional probabilities. We do not need to do that. We can assume that the attributes are Gaussian. In that case we can estimate the probability directly from the Gaussian distribution.\n",
    "\n",
    "Using the Iris dataset:\n",
    "\n",
    "| Dataset             | Iris\n",
    "|---------------------|-----------------------------------|\n",
    "| Number of Instances | 150 (50 per class) |\n",
    "| Number of Attributes | 4 numeric                        |\n",
    "| Attribute            | Sepal length/cm               |\n",
    "| Attribute            | Sepal width/cm                |\n",
    "|  Attribute           | Petal length/cm               |\n",
    "|  Attribute           | Petal width/cm                |\n",
    "| class                | Iris-Setosa                      |\n",
    "| class                | Iris-Versicolour                 |\n",
    "| class                | Iris-Virginica                   |\n"
   ]
  },
  {
   "cell_type": "code",
   "execution_count": 1,
   "metadata": {},
   "outputs": [
    {
     "data": {
      "text/plain": [
       "array([0, 0, 0, 0, 0, 0, 0, 0, 0, 0, 0, 0, 0, 0, 0, 0, 0, 0, 0, 0])"
      ]
     },
     "execution_count": 1,
     "metadata": {},
     "output_type": "execute_result"
    }
   ],
   "source": [
    "import matplotlib.pyplot as plt\n",
    "from sklearn import datasets\n",
    "import numpy as np\n",
    "import seaborn as sns\n",
    "import pandas as pd\n",
    "\n",
    "# import iris data \n",
    "iris = datasets.load_iris()\n",
    "column_names = iris.feature_names\n",
    "\n",
    "iris.data[:20,:] #X\n",
    "iris.target[:20] #Y\n",
    "\n",
    "#put it in a dataframe\n",
    "#df=pd.DataFrame(iris.data,columns= column_names)\n",
    "#df.head()"
   ]
  },
  {
   "cell_type": "code",
   "execution_count": 2,
   "metadata": {},
   "outputs": [
    {
     "data": {
      "text/plain": [
       "array([[6.3, 3.3, 6. , 2.5],\n",
       "       [5.8, 2.7, 5.1, 1.9],\n",
       "       [7.1, 3. , 5.9, 2.1],\n",
       "       [6.3, 2.9, 5.6, 1.8],\n",
       "       [6.5, 3. , 5.8, 2.2],\n",
       "       [7.6, 3. , 6.6, 2.1],\n",
       "       [4.9, 2.5, 4.5, 1.7],\n",
       "       [7.3, 2.9, 6.3, 1.8],\n",
       "       [6.7, 2.5, 5.8, 1.8],\n",
       "       [7.2, 3.6, 6.1, 2.5],\n",
       "       [6.5, 3.2, 5.1, 2. ],\n",
       "       [6.4, 2.7, 5.3, 1.9],\n",
       "       [6.8, 3. , 5.5, 2.1],\n",
       "       [5.7, 2.5, 5. , 2. ],\n",
       "       [5.8, 2.8, 5.1, 2.4],\n",
       "       [6.4, 3.2, 5.3, 2.3],\n",
       "       [6.5, 3. , 5.5, 1.8],\n",
       "       [7.7, 3.8, 6.7, 2.2],\n",
       "       [7.7, 2.6, 6.9, 2.3],\n",
       "       [6. , 2.2, 5. , 1.5],\n",
       "       [6.9, 3.2, 5.7, 2.3],\n",
       "       [5.6, 2.8, 4.9, 2. ],\n",
       "       [7.7, 2.8, 6.7, 2. ],\n",
       "       [6.3, 2.7, 4.9, 1.8],\n",
       "       [6.7, 3.3, 5.7, 2.1],\n",
       "       [7.2, 3.2, 6. , 1.8],\n",
       "       [6.2, 2.8, 4.8, 1.8],\n",
       "       [6.1, 3. , 4.9, 1.8],\n",
       "       [6.4, 2.8, 5.6, 2.1],\n",
       "       [7.2, 3. , 5.8, 1.6],\n",
       "       [7.4, 2.8, 6.1, 1.9],\n",
       "       [7.9, 3.8, 6.4, 2. ],\n",
       "       [6.4, 2.8, 5.6, 2.2],\n",
       "       [6.3, 2.8, 5.1, 1.5],\n",
       "       [6.1, 2.6, 5.6, 1.4],\n",
       "       [7.7, 3. , 6.1, 2.3],\n",
       "       [6.3, 3.4, 5.6, 2.4],\n",
       "       [6.4, 3.1, 5.5, 1.8],\n",
       "       [6. , 3. , 4.8, 1.8],\n",
       "       [6.9, 3.1, 5.4, 2.1],\n",
       "       [6.7, 3.1, 5.6, 2.4],\n",
       "       [6.9, 3.1, 5.1, 2.3],\n",
       "       [5.8, 2.7, 5.1, 1.9],\n",
       "       [6.8, 3.2, 5.9, 2.3],\n",
       "       [6.7, 3.3, 5.7, 2.5],\n",
       "       [6.7, 3. , 5.2, 2.3],\n",
       "       [6.3, 2.5, 5. , 1.9],\n",
       "       [6.5, 3. , 5.2, 2. ],\n",
       "       [6.2, 3.4, 5.4, 2.3],\n",
       "       [5.9, 3. , 5.1, 1.8]])"
      ]
     },
     "execution_count": 2,
     "metadata": {},
     "output_type": "execute_result"
    }
   ],
   "source": [
    "iris.data[iris.target==0]\n",
    "iris.data[iris.target==1]\n",
    "iris.data[iris.target==2]"
   ]
  },
  {
   "cell_type": "markdown",
   "metadata": {},
   "source": [
    "Calculate the mean and sd for all the 3 classes"
   ]
  },
  {
   "cell_type": "code",
   "execution_count": 4,
   "metadata": {},
   "outputs": [
    {
     "name": "stdout",
     "output_type": "stream",
     "text": [
      "[5.006 3.428 1.462 0.246]\n",
      "[5.936 2.77  4.26  1.326]\n",
      "[6.588 2.974 5.552 2.026]\n"
     ]
    }
   ],
   "source": [
    "#mean\n",
    "print(iris.data[iris.target==0].mean(axis=0))\n",
    "print(iris.data[iris.target==1].mean(axis=0))\n",
    "print(iris.data[iris.target==2].mean(axis=0))"
   ]
  },
  {
   "cell_type": "code",
   "execution_count": 5,
   "metadata": {},
   "outputs": [
    {
     "name": "stdout",
     "output_type": "stream",
     "text": [
      "[0.34894699 0.37525458 0.17191859 0.10432641]\n",
      "[0.51098337 0.31064449 0.46518813 0.19576517]\n",
      "[0.62948868 0.31925538 0.54634787 0.27188968]\n"
     ]
    }
   ],
   "source": [
    "#standard deviation\n",
    "print(iris.data[iris.target==0].std(axis=0))\n",
    "print(iris.data[iris.target==1].std(axis=0))\n",
    "print(iris.data[iris.target==2].std(axis=0))"
   ]
  },
  {
   "cell_type": "markdown",
   "metadata": {},
   "source": [
    "Plot the normal curves for sepal length for all classes"
   ]
  },
  {
   "cell_type": "code",
   "execution_count": 8,
   "metadata": {},
   "outputs": [
    {
     "data": {
      "image/png": "[encoded data removed]",
      "text/plain": [
       "<Figure size 432x288 with 1 Axes>"
      ]
     },
     "metadata": {
      "needs_background": "light"
     },
     "output_type": "display_data"
    }
   ],
   "source": [
    "#plot the gaussian given mean and sd - attribute 0 sepal length\n",
    "\n",
    "from scipy.stats import norm\n",
    "\n",
    "x_axis = np.arange(4,8, 0.001)\n",
    "fig,ax=plt.subplots()\n",
    "ax.plot(x_axis, norm.pdf(x_axis,5.006,0.349),label='0')\n",
    "ax.plot(x_axis, norm.pdf(x_axis,5.936,0.51098337),label='1')\n",
    "ax.plot(x_axis, norm.pdf(x_axis,6.588,0.62948868),label='2')\n",
    "\n",
    "#add here\n",
    "ax.legend()\n",
    "plt.show()"
   ]
  },
  {
   "cell_type": "markdown",
   "metadata": {},
   "source": [
    "Plot the normal curves for petal length for all classes"
   ]
  },
  {
   "cell_type": "code",
   "execution_count": 7,
   "metadata": {},
   "outputs": [
    {
     "data": {
      "image/png": "[encoded data removed]",
      "text/plain": [
       "<Figure size 432x288 with 1 Axes>"
      ]
     },
     "metadata": {
      "needs_background": "light"
     },
     "output_type": "display_data"
    }
   ],
   "source": [
    "#plot the gaussian given mean and sd - attribute 2 petal length\n",
    "x_axis = np.arange(0,7, 0.001)\n",
    "fig,ax=plt.subplots()\n",
    "ax.plot(x_axis, norm.pdf(x_axis,1.462,0.1719),label='0')\n",
    "ax.plot(x_axis, norm.pdf(x_axis,4.26,0.46518813),label='1')\n",
    "ax.plot(x_axis, norm.pdf(x_axis,5.552,0.54634787),label='2')\n",
    "#add here\n",
    "ax.legend()\n",
    "plt.show()"
   ]
  },
  {
   "cell_type": "markdown",
   "metadata": {},
   "source": [
    "Lets say now i have a new specimen with the sepal length=5.1 and petal length=3.0, what is the most probable class?\n",
    "\n",
    "To calculate $P(y|x_{1},..,x_{n}) \\propto P(y)\\prod_{i=1}^{n}{P(x_{i}|y)}$ \n",
    "\n",
    "Instead of looking up the counts in a table, we simply read of the probability from the Gaussian curve. \n",
    "\n",
    "$P(x_{i}|y) = \\frac{1}{\\sqrt{2\\pi\\sigma^2}} exp (-\\frac{(x_{i}-u)^2}{2\\sigma^2})$\n",
    "\n",
    "and\n",
    "\n",
    "$P(y|x_{1},..,x_{n}) \\propto P(y)P(x_{0}|y)P(x_{2}|y) $"
   ]
  },
  {
   "cell_type": "markdown",
   "metadata": {},
   "source": [
    "Define the $P(x_{i}|y)$ below: (20%)"
   ]
  },
  {
   "cell_type": "code",
   "execution_count": 12,
   "metadata": {},
   "outputs": [],
   "source": [
    "from math import *\n",
    "import math as math\n",
    "\n",
    "def px_y(x,mean,sigma):\n",
    "    return(1/(math.sqrt(2*math.pi*(sigma**2)))*math.exp(-((x - mean)**2)/(2*(sigma**2))))\n",
    "    "
   ]
  },
  {
   "cell_type": "markdown",
   "metadata": {},
   "source": [
    "Calculate $P(x_{0}|y)P(x_{2}|y)$ for each class and determine which is the most probable class (80%)"
   ]
  },
  {
   "cell_type": "code",
   "execution_count": 18,
   "metadata": {},
   "outputs": [
    {
     "name": "stdout",
     "output_type": "stream",
     "text": [
      "P( X0= 5.1, X2=3.0 | Y=0 )= 1.0600981999734991e-17\n",
      "P( X0= 5.1, X2=3.0 | Y=1 )= 0.0044819347554920785\n",
      "P( X0= 5.1, X2=3.0 | Y=1)= 5.178610705969516e-07\n",
      "Predict Class= 1\n"
     ]
    }
   ],
   "source": [
    "# Calculate P(X0|Y)(PX2|Y)\n",
    "\n",
    "print(\"P(Y=0 | X0= 5.1, X2=3.0)=\", px_y(5.1,5.006,0.349)*px_y(3.0,1.462,0.1719))\n",
    "print(\"P(Y=1 | X0= 5.1, X2=3.0)=\", px_y(5.1,5.936,0.51098337)*px_y(3.0,4.26,0.46518813))\n",
    "print(\"P(Y=2 | X0= 5.1, X2=3.0)=\", px_y(5.1,6.588,0.62948868)*px_y(3.0,5.552,0.54634787))\n",
    "\n",
    "print(\"Predict Class=\", np.argmax([px_y(5.1,5.006,0.349)*px_y(3.0,1.462,0.1719), px_y(5.1,5.936,0.51098337)*px_y(3.0,4.26,0.46518813),px_y(5.1,6.588,0.62948868)*px_y(3.0,5.552,0.54634787)]))\n"
   ]
  },
  {
   "cell_type": "markdown",
   "metadata": {},
   "source": [
    "### Scikit-Learn\n",
    "\n",
    "We can save all our troubles by using the Scikit-Learn Library"
   ]
  },
  {
   "cell_type": "code",
   "execution_count": 16,
   "metadata": {},
   "outputs": [
    {
     "data": {
      "text/plain": [
       "GaussianNB()"
      ]
     },
     "execution_count": 16,
     "metadata": {},
     "output_type": "execute_result"
    }
   ],
   "source": [
    "from sklearn.naive_bayes import GaussianNB\n",
    "gb=GaussianNB()\n",
    "gb.fit(iris.data[:,(0,2)], iris.target) #use only two attributes - 0 and 2"
   ]
  },
  {
   "cell_type": "code",
   "execution_count": 17,
   "metadata": {},
   "outputs": [
    {
     "name": "stdout",
     "output_type": "stream",
     "text": [
      "Predict Class= [1]\n"
     ]
    }
   ],
   "source": [
    "print('Predict Class=',gb.predict([[5.1, 3]]))\n"
   ]
  },
  {
   "cell_type": "code",
   "execution_count": null,
   "metadata": {},
   "outputs": [],
   "source": []
  }
 ],
 "metadata": {
  "kernelspec": {
   "display_name": "Python 3",
   "language": "python",
   "name": "python3"
  },
  "language_info": {
   "codemirror_mode": {
    "name": "ipython",
    "version": 3
   },
   "file_extension": ".py",
   "mimetype": "text/x-python",
   "name": "python",
   "nbconvert_exporter": "python",
   "pygments_lexer": "ipython3",
   "version": "3.8.3"
  }
 },
 "nbformat": 4,
 "nbformat_minor": 4
}
