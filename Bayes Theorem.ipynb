{
 "cells": [
  {
   "cell_type": "markdown",
   "metadata": {},
   "source": [
    "### Bayes's Theorem\n",
    "\n",
    "\n",
    "Suppose there are two bowls of cookies. Bowl 1 contains 30 vanilla cookies and 10 chocolate cookies. Bowl 2 contains 20 of each.\n",
    "\n",
    "![](l5-img/cookies.png)\n",
    "\n",
    "Now suppose you choose one of the bowls at random and, without looking, select a cookie at random. The cookie is vanilla. What is the probability that it came from Bowl 1? \n",
    "\n",
    "This is a conditional probability; we want $p(Bowl_1| vanilla)$, but it is not obvious how to compute it. If I asked a different question—the probability of a vanilla cookie given Bowl 1—it would be easy:\n",
    "$p(vanilla| Bowl_1) = 3/4$\n",
    "\n",
    "Sadly, $p(A|B)$ is not the same as $p(B|A)$, but there is a way to get from one to the other: Bayes’s theorem:\n",
    "\n",
    "$$ \n",
    " p(A|B)=\\frac{p(A)p(B|A)}{p(B)}\n",
    "$$\n",
    "\n",
    "For example, we can use it to solve the cookie problem. I’ll write B1 for the\n",
    "hypothesis that the cookie came from Bowl 1 and V for the vanilla cookie.\n",
    "Plugging in Bayes’s theorem we get\n",
    "\n",
    "$$\n",
    " p(B_1|V)=\\frac{p(B_1)p(V|B_1)}{p(V)}\n",
    "$$\n",
    "\n",
    "The term on the left is what we want: the probability of Bowl 1, given that we chose a vanilla cookie. The terms on the right are:\n",
    "1. $p(B_1)$ : This is the probability that we chose Bowl 1, unconditioned by what kind of cookie we got. Since the problem says we chose a bowl at random, we can assume p(B1) = 1/2.\n",
    "1. $p(V|B_1)$ : This is the probability of getting a vanilla cookie from Bowl 1, which is 3/4.\n",
    "1. $p(V)$ : This is the probability of drawing a vanilla cookie from either bowl. Since we had an equal chance of choosing either bowl and the bowls contain the same number of cookies, we had the same chance of choosing any cookie. Between the two bowls there are 50 vanilla and 30 chocolate cookies, so $p(V)$ = 5/8.\n",
    "\n",
    "Putting it together, we have\n",
    "\n",
    "$$\n",
    " p(B_1|V)=\\frac{(1/2)(3/4)}{5/8} = 3/5\n",
    "$$\n",
    "\n",
    "So the vanilla cookie is evidence in favor of the hypothesis that we chose Bowl 1, because vanilla cookies are more likely to come from Bowl 1. \n",
    "\n",
    "This example demonstrates one use of Bayes’s theorem: it provides a strategy to get from $p(B|A)$ to $p(A|B)$. This strategy is useful in cases, like the cookie problem, where it is easier to compute the terms on the right side of Bayes’s theorem than the term on the left\n",
    "\n",
    "Rewriting Bayes’s theorem with H and D yields:\n",
    "$$\n",
    "p(H|D) = \\frac{p(H) p(D|H)}{p(D)}\n",
    "$$\n",
    "\n",
    "In this interpretation, each term has a name:\n",
    "- p(H) is the probability of the hypothesis before we see the data, called the prior probability, or just prior.\n",
    "- p(H|D) is what we want to compute, the probability of the hypothesis after we see the data, called the posterior.\n",
    "- p(D|H) is the probability of the data under the hypothesis, called the likelihood.\n",
    "- p(D) is the probability of the data under any hypothesis, called the normalizing constant.\n",
    "\n",
    "Sometimes we can compute the prior based on background information. For example, the cookie problem specifies that we choose a bowl at random with equal probability.\n",
    "\n",
    "source: Think Bayes, Allen B. Downey"
   ]
  },
  {
   "cell_type": "markdown",
   "metadata": {},
   "source": [
    "### M & M Problem 1\n",
    "\n",
    "M&M’s are small candy-coated chocolates that come in a variety of colors. Mars, Inc., which makes M&M’s, changes the mixture of colors from time to time. \n",
    "\n",
    "Up to 1995 the color mix in a bag of plain M&M’s was 30% Brown, 20% Yellow, 20% Red, 10% Green, 10% Orange, 10% Tan. \n",
    "\n",
    "After 1995, it was 24% Blue , 20% Green, 16% Orange,\n",
    "14% Yellow, 13% Red, 13% Brown."
   ]
  },
  {
   "cell_type": "code",
   "execution_count": 1,
   "metadata": {},
   "outputs": [
    {
     "data": {
      "text/plain": [
       "<BarContainer object of 1 artists>"
      ]
     },
     "execution_count": 1,
     "metadata": {},
     "output_type": "execute_result"
    },
    {
     "data": {
      "image/png": "[encoded data removed]",
      "text/plain": [
       "<Figure size 432x288 with 1 Axes>"
      ]
     },
     "metadata": {
      "needs_background": "light"
     },
     "output_type": "display_data"
    }
   ],
   "source": [
    "import matplotlib.pyplot as plt\n",
    "x=['Brown','Yellow','Red','Green','Orange','Tan']\n",
    "y=[.3,.2,.2,.1,.1,.1]\n",
    "fig,ax=plt.subplots(1,1)\n",
    "ax.set_xlabel(\"Colors\")\n",
    "ax.set_ylabel(\"Proportion\")\n",
    "ax.set_title(\"M&M pre 1995\")\n",
    "#ax.bar(x,y)\n",
    "ax.bar(x[0],y[0], color='k')\n",
    "ax.bar(x[1],y[1], color='y')\n",
    "ax.bar(x[2],y[2], color='r')\n",
    "ax.bar(x[3],y[3], color='g')\n",
    "ax.bar(x[4],y[4], color='r')\n",
    "ax.bar(x[5],y[5], color='c')"
   ]
  },
  {
   "cell_type": "code",
   "execution_count": 2,
   "metadata": {},
   "outputs": [
    {
     "data": {
      "text/plain": [
       "<BarContainer object of 1 artists>"
      ]
     },
     "execution_count": 2,
     "metadata": {},
     "output_type": "execute_result"
    },
    {
     "data": {
      "image/png": "[encoded data removed]",
      "text/plain": [
       "<Figure size 432x288 with 1 Axes>"
      ]
     },
     "metadata": {
      "needs_background": "light"
     },
     "output_type": "display_data"
    }
   ],
   "source": [
    "import matplotlib.pyplot as plt\n",
    "x=['Blue','Green','Orange','Yellow','Red','Brown']\n",
    "y=[.24,.2,.16,.14,.13,.13]\n",
    "fig,ax=plt.subplots(1,1)\n",
    "ax.set_xlabel(\"Colors\")\n",
    "ax.set_ylabel(\"Proportion\")\n",
    "ax.set_title(\"M&M Post-1995\")\n",
    "ax.bar(x[0],y[0], color='b')\n",
    "ax.bar(x[1],y[1], color='g')\n",
    "ax.bar(x[2],y[2], color='c')\n",
    "ax.bar(x[3],y[3], color='y')\n",
    "ax.bar(x[4],y[4], color='r')\n",
    "ax.bar(x[5],y[5], color='k')"
   ]
  },
  {
   "cell_type": "markdown",
   "metadata": {},
   "source": [
    "\n",
    "\n",
    "Suppose a friend of mine has two bags of M&M’s, and he tells me that one is from 1994 and one from 1996. He won’t tell me which is which, but he gives me one M&M from each bag. One is yellow and one is green. \n",
    "\n",
    "**What is the probability that the yellow one came from the 1994 bag?**\n",
    "\n",
    "This problem is similar to the cookie problem, with the twist that I draw one sample from each bowl/bag. This problem can be solved by the listing the probabilities in a  table, which is useful for solving problems like this on paper.  \n",
    "\n",
    "The first step is to enumerate the hypotheses. The bag the yellow M&M came from I’ll call Bag 1; I’ll call the other Bag 2. So the hypotheses are:\n",
    "\n",
    "- A: Bag 1 is from 1994, which implies that Bag 2 is from 1996.\n",
    "- B: Bag 1 is from 1996 and Bag 2 from 1994.\n",
    "\n",
    "Now we construct a table with a row for each hypothesis and a column for\n",
    "each term in Bayes’s theorem: \n",
    "<table border=\"1\"><th>Case</th><th> Prior p(H) </th><th> Likelihood p(D|H)<th> p(H)p(D|H)</th><th> Posterior [p(H)p(D|H)]/p(D)<th>\n",
    "    <tr><td>A</td><td>? </td><td>?</td><td>?</td><td>?</td></tr>\n",
    "    <tr><td>B</td><td>? </td><td>?</td><td>?</td><td>?</td></tr>\n",
    "</table>\n",
    "\n",
    "\n",
    "The first column has the priors. Based on the statement of the problem, it is reasonable to choose p(A) = p(B) = 1/2.\n",
    "\n",
    "The second column has the likelihoods, which follow from the information in the problem. For example, if A is true, the yellow M&M came from the 1994 bag with probability 20%, and the green came from the 1996 bag with probability 20%. If B is true, the yellow M&M came from the 1996 bag with probability 14%, and the green came from the 1994 bag with probability 10%. Because the selections are independent, we get the conjoint probability by multiplying them to get the likelihood.\n",
    "\n",
    "The third column is just the product of the previous two. The sum of this column is the normalizing constant. To get the last column, which contains the posteriors, we divide the third column by the normalizing constant.\n",
    "\n",
    "Based on the above explanation fill in the above table and answer the question above (in bold).\n",
    "\n",
    "Marking: Correct posterior: 1 mark\n"
   ]
  },
  {
   "cell_type": "code",
   "execution_count": 18,
   "metadata": {},
   "outputs": [
    {
     "name": "stdout",
     "output_type": "stream",
     "text": [
      "0.7407407407407407\n",
      "0.25925925925925924\n"
     ]
    }
   ],
   "source": [
    "import numpy as np\n",
    " \n",
    "ph= 1/2\n",
    "pdhA = 20/20\n",
    "pdhB = 10/14\n",
    "\n",
    "pd = 27\n",
    "phpdhA = ph*pdhA\n",
    "phpdhB = ph*pdhB\n",
    "\n",
    "posteriorA = 20/pd \n",
    "posteriorB = 7/pd\n",
    "\n",
    "print(posteriorA)\n",
    "print(posteriorB)"
   ]
  },
  {
   "cell_type": "markdown",
   "metadata": {},
   "source": [
    "###  Problem 2\n",
    "\n",
    "Suppose now you have the following set of playing cards in three sets (A,B, C as in diagram below):\n",
    "\n",
    "![](l5-img/cards.jpg)\n",
    "\n",
    "\n",
    "Now a card is randomly drawn from the three sets without you knowing. If the card drawn is a King (ignoring the suit), what is the probability that it can be from the Sets A-C?\n",
    "\n",
    "Write a program that will generate the correct answer any for any card drawn (ignoring the suit). Structure the code so that it can be generalized for any similar problems. \n",
    "\n",
    "Code structure: 1 mark\n",
    "Correct answer: 1 mark\n"
   ]
  },
  {
   "cell_type": "code",
   "execution_count": 12,
   "metadata": {},
   "outputs": [
    {
     "name": "stdout",
     "output_type": "stream",
     "text": [
      "0.1111111111111111\n",
      "0.25\n",
      "0.25\n",
      "0.5\n"
     ]
    }
   ],
   "source": [
    "import numpy as np\n",
    " \n",
    "ph= 1/3\n",
    "pdhA = 2/6\n",
    "pdhB = 2/6\n",
    "pdhC = 4/6\n",
    "pd = 9/4\n",
    "phpdhA = pdhA*ph\n",
    "phpdhB = pdhB*ph\n",
    "phpdhC = pdhC*ph\n",
    "posteriorA = phpdhA*pd \n",
    "posteriorB = phpdhB*pd\n",
    "posteriorC = phpdhC*pd\n",
    "\n",
    "print(phpdhA)\n",
    "print(posteriorA)\n",
    "print(posteriorB)\n",
    "print(posteriorC)"
   ]
  },
  {
   "cell_type": "code",
   "execution_count": null,
   "metadata": {},
   "outputs": [],
   "source": []
  }
 ],
 "metadata": {
  "kernelspec": {
   "display_name": "Python 3",
   "language": "python",
   "name": "python3"
  },
  "language_info": {
   "codemirror_mode": {
    "name": "ipython",
    "version": 3
   },
   "file_extension": ".py",
   "mimetype": "text/x-python",
   "name": "python",
   "nbconvert_exporter": "python",
   "pygments_lexer": "ipython3",
   "version": "3.6.10"
  }
 },
 "nbformat": 4,
 "nbformat_minor": 4
}
