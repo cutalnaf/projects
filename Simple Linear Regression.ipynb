{
 "cells": [
  {
   "cell_type": "markdown",
   "metadata": {},
   "source": [
    "# Simple Linear Regression\n",
    "\n",
    "[Linear regression](https://en.wikipedia.org/wiki/Linear_regression) is perhaps the most simple of all of the models. Do you remember the linear formula where `m` is the slope and `b` is where the line starts on the y-axis?"
   ]
  },
  {
   "cell_type": "markdown",
   "metadata": {},
   "source": [
    "$$y=mx+b$$"
   ]
  },
  {
   "cell_type": "markdown",
   "metadata": {},
   "source": [
    "This is a simple linear model since there is only one coefficient - `mx`."
   ]
  },
  {
   "cell_type": "markdown",
   "metadata": {},
   "source": [
    "## Imports and load data"
   ]
  },
  {
   "cell_type": "code",
   "execution_count": 104,
   "metadata": {},
   "outputs": [],
   "source": [
    "import pandas as pd\n",
    "import numpy as np\n",
    "import matplotlib.pyplot as plt\n",
    "import seaborn as sns\n",
    "from sklearn.model_selection import train_test_split\n",
    "from sklearn.linear_model import LinearRegression\n",
    "from sklearn.metrics import r2_score\n",
    "\n",
    "sns.set()\n",
    "%matplotlib inline"
   ]
  },
  {
   "cell_type": "code",
   "execution_count": 105,
   "metadata": {
    "scrolled": true
   },
   "outputs": [],
   "source": [
    "df = pd.read_csv(\"./SalaryData.txt\")"
   ]
  },
  {
   "cell_type": "code",
   "execution_count": 106,
   "metadata": {},
   "outputs": [
    {
     "data": {
      "text/html": [
       "<div>\n",
       "<style scoped>\n",
       "    .dataframe tbody tr th:only-of-type {\n",
       "        vertical-align: middle;\n",
       "    }\n",
       "\n",
       "    .dataframe tbody tr th {\n",
       "        vertical-align: top;\n",
       "    }\n",
       "\n",
       "    .dataframe thead th {\n",
       "        text-align: right;\n",
       "    }\n",
       "</style>\n",
       "<table border=\"1\" class=\"dataframe\">\n",
       "  <thead>\n",
       "    <tr style=\"text-align: right;\">\n",
       "      <th></th>\n",
       "      <th>YearsExperience</th>\n",
       "      <th>Salary</th>\n",
       "    </tr>\n",
       "  </thead>\n",
       "  <tbody>\n",
       "    <tr>\n",
       "      <th>0</th>\n",
       "      <td>1.1</td>\n",
       "      <td>39343.0</td>\n",
       "    </tr>\n",
       "    <tr>\n",
       "      <th>1</th>\n",
       "      <td>1.3</td>\n",
       "      <td>46205.0</td>\n",
       "    </tr>\n",
       "    <tr>\n",
       "      <th>2</th>\n",
       "      <td>1.5</td>\n",
       "      <td>37731.0</td>\n",
       "    </tr>\n",
       "    <tr>\n",
       "      <th>3</th>\n",
       "      <td>2.0</td>\n",
       "      <td>43525.0</td>\n",
       "    </tr>\n",
       "    <tr>\n",
       "      <th>4</th>\n",
       "      <td>2.2</td>\n",
       "      <td>39891.0</td>\n",
       "    </tr>\n",
       "  </tbody>\n",
       "</table>\n",
       "</div>"
      ],
      "text/plain": [
       "   YearsExperience   Salary\n",
       "0              1.1  39343.0\n",
       "1              1.3  46205.0\n",
       "2              1.5  37731.0\n",
       "3              2.0  43525.0\n",
       "4              2.2  39891.0"
      ]
     },
     "execution_count": 106,
     "metadata": {},
     "output_type": "execute_result"
    }
   ],
   "source": [
    "df.head()"
   ]
  },
  {
   "cell_type": "code",
   "execution_count": 107,
   "metadata": {},
   "outputs": [
    {
     "data": {
      "text/plain": [
       "(33, 2)"
      ]
     },
     "execution_count": 107,
     "metadata": {},
     "output_type": "execute_result"
    }
   ],
   "source": [
    "df.shape"
   ]
  },
  {
   "cell_type": "markdown",
   "metadata": {},
   "source": [
    "Before continuing, check if there are any missing data in the data set."
   ]
  },
  {
   "cell_type": "code",
   "execution_count": 108,
   "metadata": {},
   "outputs": [
    {
     "data": {
      "text/plain": [
       "False"
      ]
     },
     "execution_count": 108,
     "metadata": {},
     "output_type": "execute_result"
    }
   ],
   "source": [
    "df.isnull().values.any()"
   ]
  },
  {
   "cell_type": "markdown",
   "metadata": {},
   "source": [
    "## Splitting data into Test and Train\n",
    "\n",
    "Splitting the depedent variable (`Salary`) out from the indepedent variable (`YearsExperience`) so we can build our model.\n",
    "\n",
    "We use the `train_test_split` method from `scikit-learn` to split our data. The `test_size` is used to tell it what percentage of the data to use for our testing data set and the `random_state` is used as a seed for the random splitting of the data. The seed will randomize the split in the same way each time for reproducability."
   ]
  },
  {
   "cell_type": "code",
   "execution_count": 109,
   "metadata": {},
   "outputs": [],
   "source": [
    "train_set, test_set = train_test_split(df, test_size=0.2, random_state=42)\n",
    "train_set1, test_set1 = train_test_split(df, test_size=0.2, random_state=18)\n",
    "train_set2, test_set2 = train_test_split(df, test_size=0.2, random_state=2)\n",
    "train_set0, test_set0 = train_test_split(df, test_size=0.2, random_state=42)\n",
    "train_set11, test_set11 = train_test_split(df, test_size=0.2, random_state=18)\n",
    "train_set22, test_set22 = train_test_split(df, test_size=0.2, random_state=2)"
   ]
  },
  {
   "cell_type": "code",
   "execution_count": 110,
   "metadata": {},
   "outputs": [
    {
     "data": {
      "text/plain": [
       "(26, 2)"
      ]
     },
     "execution_count": 110,
     "metadata": {},
     "output_type": "execute_result"
    }
   ],
   "source": [
    "train_set.shape"
   ]
  },
  {
   "cell_type": "code",
   "execution_count": 111,
   "metadata": {},
   "outputs": [
    {
     "data": {
      "text/plain": [
       "(26, 2)"
      ]
     },
     "execution_count": 111,
     "metadata": {},
     "output_type": "execute_result"
    }
   ],
   "source": [
    "train_set1.shape"
   ]
  },
  {
   "cell_type": "code",
   "execution_count": 112,
   "metadata": {},
   "outputs": [
    {
     "data": {
      "text/plain": [
       "(26, 2)"
      ]
     },
     "execution_count": 112,
     "metadata": {},
     "output_type": "execute_result"
    }
   ],
   "source": [
    "train_set2.shape"
   ]
  },
  {
   "cell_type": "code",
   "execution_count": 113,
   "metadata": {},
   "outputs": [
    {
     "data": {
      "text/html": [
       "<div>\n",
       "<style scoped>\n",
       "    .dataframe tbody tr th:only-of-type {\n",
       "        vertical-align: middle;\n",
       "    }\n",
       "\n",
       "    .dataframe tbody tr th {\n",
       "        vertical-align: top;\n",
       "    }\n",
       "\n",
       "    .dataframe thead th {\n",
       "        text-align: right;\n",
       "    }\n",
       "</style>\n",
       "<table border=\"1\" class=\"dataframe\">\n",
       "  <thead>\n",
       "    <tr style=\"text-align: right;\">\n",
       "      <th></th>\n",
       "      <th>YearsExperience</th>\n",
       "      <th>Salary</th>\n",
       "    </tr>\n",
       "  </thead>\n",
       "  <tbody>\n",
       "    <tr>\n",
       "      <th>21</th>\n",
       "      <td>6.0</td>\n",
       "      <td>93940.0</td>\n",
       "    </tr>\n",
       "    <tr>\n",
       "      <th>12</th>\n",
       "      <td>4.0</td>\n",
       "      <td>56957.0</td>\n",
       "    </tr>\n",
       "    <tr>\n",
       "      <th>0</th>\n",
       "      <td>1.1</td>\n",
       "      <td>39343.0</td>\n",
       "    </tr>\n",
       "    <tr>\n",
       "      <th>4</th>\n",
       "      <td>2.2</td>\n",
       "      <td>39891.0</td>\n",
       "    </tr>\n",
       "    <tr>\n",
       "      <th>16</th>\n",
       "      <td>4.9</td>\n",
       "      <td>67938.0</td>\n",
       "    </tr>\n",
       "  </tbody>\n",
       "</table>\n",
       "</div>"
      ],
      "text/plain": [
       "    YearsExperience   Salary\n",
       "21              6.0  93940.0\n",
       "12              4.0  56957.0\n",
       "0               1.1  39343.0\n",
       "4               2.2  39891.0\n",
       "16              4.9  67938.0"
      ]
     },
     "execution_count": 113,
     "metadata": {},
     "output_type": "execute_result"
    }
   ],
   "source": [
    "train_set.head()"
   ]
  },
  {
   "cell_type": "code",
   "execution_count": 114,
   "metadata": {},
   "outputs": [
    {
     "data": {
      "text/html": [
       "<div>\n",
       "<style scoped>\n",
       "    .dataframe tbody tr th:only-of-type {\n",
       "        vertical-align: middle;\n",
       "    }\n",
       "\n",
       "    .dataframe tbody tr th {\n",
       "        vertical-align: top;\n",
       "    }\n",
       "\n",
       "    .dataframe thead th {\n",
       "        text-align: right;\n",
       "    }\n",
       "</style>\n",
       "<table border=\"1\" class=\"dataframe\">\n",
       "  <thead>\n",
       "    <tr style=\"text-align: right;\">\n",
       "      <th></th>\n",
       "      <th>YearsExperience</th>\n",
       "      <th>Salary</th>\n",
       "    </tr>\n",
       "  </thead>\n",
       "  <tbody>\n",
       "    <tr>\n",
       "      <th>31</th>\n",
       "      <td>10.5</td>\n",
       "      <td>121872.0</td>\n",
       "    </tr>\n",
       "    <tr>\n",
       "      <th>15</th>\n",
       "      <td>4.5</td>\n",
       "      <td>61111.0</td>\n",
       "    </tr>\n",
       "    <tr>\n",
       "      <th>26</th>\n",
       "      <td>8.7</td>\n",
       "      <td>109431.0</td>\n",
       "    </tr>\n",
       "    <tr>\n",
       "      <th>17</th>\n",
       "      <td>5.1</td>\n",
       "      <td>66029.0</td>\n",
       "    </tr>\n",
       "    <tr>\n",
       "      <th>8</th>\n",
       "      <td>3.2</td>\n",
       "      <td>64445.0</td>\n",
       "    </tr>\n",
       "  </tbody>\n",
       "</table>\n",
       "</div>"
      ],
      "text/plain": [
       "    YearsExperience    Salary\n",
       "31             10.5  121872.0\n",
       "15              4.5   61111.0\n",
       "26              8.7  109431.0\n",
       "17              5.1   66029.0\n",
       "8               3.2   64445.0"
      ]
     },
     "execution_count": 114,
     "metadata": {},
     "output_type": "execute_result"
    }
   ],
   "source": [
    "test_set.head()"
   ]
  },
  {
   "cell_type": "markdown",
   "metadata": {},
   "source": [
    "## Exploratory Data Analysis\n",
    "\n",
    "Explore the data to find trends. Using the `describe` method to get descriptive statistics on numerical columns of our data. The `corr` method to calculate correlations between the columns of our data. And plotting with `matplotlib` via the `plot` method to get a visual of the data. Also using `seaborn`'s `regplot` to give us what a linear regression line of our data may look like and to verify that our data looks linear."
   ]
  },
  {
   "cell_type": "code",
   "execution_count": 115,
   "metadata": {},
   "outputs": [
    {
     "data": {
      "text/html": [
       "<div>\n",
       "<style scoped>\n",
       "    .dataframe tbody tr th:only-of-type {\n",
       "        vertical-align: middle;\n",
       "    }\n",
       "\n",
       "    .dataframe tbody tr th {\n",
       "        vertical-align: top;\n",
       "    }\n",
       "\n",
       "    .dataframe thead th {\n",
       "        text-align: right;\n",
       "    }\n",
       "</style>\n",
       "<table border=\"1\" class=\"dataframe\">\n",
       "  <thead>\n",
       "    <tr style=\"text-align: right;\">\n",
       "      <th></th>\n",
       "      <th>YearsExperience</th>\n",
       "      <th>Salary</th>\n",
       "    </tr>\n",
       "  </thead>\n",
       "  <tbody>\n",
       "    <tr>\n",
       "      <th>count</th>\n",
       "      <td>26.000000</td>\n",
       "      <td>26.000000</td>\n",
       "    </tr>\n",
       "    <tr>\n",
       "      <th>mean</th>\n",
       "      <td>5.319231</td>\n",
       "      <td>76046.269231</td>\n",
       "    </tr>\n",
       "    <tr>\n",
       "      <th>std</th>\n",
       "      <td>2.929303</td>\n",
       "      <td>28339.605860</td>\n",
       "    </tr>\n",
       "    <tr>\n",
       "      <th>min</th>\n",
       "      <td>1.100000</td>\n",
       "      <td>37731.000000</td>\n",
       "    </tr>\n",
       "    <tr>\n",
       "      <th>25%</th>\n",
       "      <td>3.050000</td>\n",
       "      <td>56006.000000</td>\n",
       "    </tr>\n",
       "    <tr>\n",
       "      <th>50%</th>\n",
       "      <td>4.550000</td>\n",
       "      <td>65578.000000</td>\n",
       "    </tr>\n",
       "    <tr>\n",
       "      <th>75%</th>\n",
       "      <td>7.700000</td>\n",
       "      <td>100544.750000</td>\n",
       "    </tr>\n",
       "    <tr>\n",
       "      <th>max</th>\n",
       "      <td>10.400000</td>\n",
       "      <td>122391.000000</td>\n",
       "    </tr>\n",
       "  </tbody>\n",
       "</table>\n",
       "</div>"
      ],
      "text/plain": [
       "       YearsExperience         Salary\n",
       "count        26.000000      26.000000\n",
       "mean          5.319231   76046.269231\n",
       "std           2.929303   28339.605860\n",
       "min           1.100000   37731.000000\n",
       "25%           3.050000   56006.000000\n",
       "50%           4.550000   65578.000000\n",
       "75%           7.700000  100544.750000\n",
       "max          10.400000  122391.000000"
      ]
     },
     "execution_count": 115,
     "metadata": {},
     "output_type": "execute_result"
    }
   ],
   "source": [
    "train_set.describe()"
   ]
  },
  {
   "cell_type": "code",
   "execution_count": 117,
   "metadata": {},
   "outputs": [
    {
     "data": {
      "text/plain": [
       "<matplotlib.axes._subplots.AxesSubplot at 0x1d7bc4551f0>"
      ]
     },
     "execution_count": 117,
     "metadata": {},
     "output_type": "execute_result"
    },
    {
     "data": {
      "image/png": "[encoded data removed]",
      "text/plain": [
       "<Figure size 432x288 with 1 Axes>"
      ]
     },
     "metadata": {
      "needs_background": "light"
     },
     "output_type": "display_data"
    },
    {
     "data": {
      "image/png": "[encoded data removed]",
      "text/plain": [
       "<Figure size 432x288 with 1 Axes>"
      ]
     },
     "metadata": {
      "needs_background": "light"
     },
     "output_type": "display_data"
    },
    {
     "data": {
      "image/png": "[encoded data removed]",
      "text/plain": [
       "<Figure size 432x288 with 1 Axes>"
      ]
     },
     "metadata": {
      "needs_background": "light"
     },
     "output_type": "display_data"
    }
   ],
   "source": [
    "train_set.plot.scatter(x='YearsExperience', y='Salary',c=['r'])\n",
    "train_set1.plot.scatter(x='YearsExperience', y='Salary',c=['r'])\n",
    "train_set2.plot.scatter(x='YearsExperience', y='Salary',c=['r'])\n",
    "#train_set0.plot.scatter(x='YearsExperience', y='Salary',c=['r'])\n",
    "#train_set11.plot.scatter(x='YearsExperience', y='Salary',c=['r'])\n",
    "#train_set22.plot.scatter(x='YearsExperience', y='Salary',c=['r'])"
   ]
  },
  {
   "cell_type": "code",
   "execution_count": 118,
   "metadata": {},
   "outputs": [
    {
     "data": {
      "text/plain": [
       "<matplotlib.axes._subplots.AxesSubplot at 0x1d7bc54fc40>"
      ]
     },
     "execution_count": 118,
     "metadata": {},
     "output_type": "execute_result"
    },
    {
     "data": {
      "image/png": "[encoded data removed]",
      "text/plain": [
       "<Figure size 432x288 with 1 Axes>"
      ]
     },
     "metadata": {
      "needs_background": "light"
     },
     "output_type": "display_data"
    }
   ],
   "source": [
    "# Regression plot\n",
    "sns.regplot('YearsExperience', # Horizontal axis\n",
    "           'Salary', # Vertical axis\n",
    "           data=train_set, color='green')\n",
    "sns.regplot('YearsExperience', # Horizontal axis\n",
    "           'Salary', # Vertical axis\n",
    "           data=train_set1, color='yellow')\n",
    "sns.regplot('YearsExperience', # Horizontal axis\n",
    "           'Salary', # Vertical axis\n",
    "           data=train_set2, color='red')"
   ]
  },
  {
   "cell_type": "markdown",
   "metadata": {},
   "source": [
    "## Predict\n",
    "\n",
    "We're making three other data sets for the `LinearRegression` model:\n",
    "- `test_` that is just the `YearsExperience` column (dropping the `Salary` column) that will be used for analyzing and scoring our model. `test_set` is the full data set after split.\n",
    "- `train_labels` that is just the `Salary` column to train the `LinearRegression` model what the answers are when passing in the years of experience input.\n",
    "- `train_set` that is also just the `YearsExperience` column (dropping the `Salary` column) that will be passed into the `LinearRegression`'s `fit` method as the `x` parameter."
   ]
  },
  {
   "cell_type": "code",
   "execution_count": 23,
   "metadata": {},
   "outputs": [],
   "source": [
    "test_ = test_set.drop([\"Salary\"], axis=1)"
   ]
  },
  {
   "cell_type": "code",
   "execution_count": 24,
   "metadata": {},
   "outputs": [],
   "source": [
    "test_1 = test_set1.drop([\"Salary\"], axis=1)"
   ]
  },
  {
   "cell_type": "code",
   "execution_count": 25,
   "metadata": {},
   "outputs": [],
   "source": [
    "test_2 = test_set2.drop([\"Salary\"], axis=1)"
   ]
  },
  {
   "cell_type": "code",
   "execution_count": 26,
   "metadata": {},
   "outputs": [
    {
     "data": {
      "text/html": [
       "<div>\n",
       "<style scoped>\n",
       "    .dataframe tbody tr th:only-of-type {\n",
       "        vertical-align: middle;\n",
       "    }\n",
       "\n",
       "    .dataframe tbody tr th {\n",
       "        vertical-align: top;\n",
       "    }\n",
       "\n",
       "    .dataframe thead th {\n",
       "        text-align: right;\n",
       "    }\n",
       "</style>\n",
       "<table border=\"1\" class=\"dataframe\">\n",
       "  <thead>\n",
       "    <tr style=\"text-align: right;\">\n",
       "      <th></th>\n",
       "      <th>YearsExperience</th>\n",
       "    </tr>\n",
       "  </thead>\n",
       "  <tbody>\n",
       "    <tr>\n",
       "      <th>31</th>\n",
       "      <td>10.5</td>\n",
       "    </tr>\n",
       "    <tr>\n",
       "      <th>15</th>\n",
       "      <td>4.5</td>\n",
       "    </tr>\n",
       "    <tr>\n",
       "      <th>26</th>\n",
       "      <td>8.7</td>\n",
       "    </tr>\n",
       "    <tr>\n",
       "      <th>17</th>\n",
       "      <td>5.1</td>\n",
       "    </tr>\n",
       "    <tr>\n",
       "      <th>8</th>\n",
       "      <td>3.2</td>\n",
       "    </tr>\n",
       "  </tbody>\n",
       "</table>\n",
       "</div>"
      ],
      "text/plain": [
       "    YearsExperience\n",
       "31             10.5\n",
       "15              4.5\n",
       "26              8.7\n",
       "17              5.1\n",
       "8               3.2"
      ]
     },
     "execution_count": 26,
     "metadata": {},
     "output_type": "execute_result"
    }
   ],
   "source": [
    "test_.head()"
   ]
  },
  {
   "cell_type": "code",
   "execution_count": 27,
   "metadata": {},
   "outputs": [
    {
     "data": {
      "text/html": [
       "<div>\n",
       "<style scoped>\n",
       "    .dataframe tbody tr th:only-of-type {\n",
       "        vertical-align: middle;\n",
       "    }\n",
       "\n",
       "    .dataframe tbody tr th {\n",
       "        vertical-align: top;\n",
       "    }\n",
       "\n",
       "    .dataframe thead th {\n",
       "        text-align: right;\n",
       "    }\n",
       "</style>\n",
       "<table border=\"1\" class=\"dataframe\">\n",
       "  <thead>\n",
       "    <tr style=\"text-align: right;\">\n",
       "      <th></th>\n",
       "      <th>YearsExperience</th>\n",
       "    </tr>\n",
       "  </thead>\n",
       "  <tbody>\n",
       "    <tr>\n",
       "      <th>12</th>\n",
       "      <td>4.0</td>\n",
       "    </tr>\n",
       "    <tr>\n",
       "      <th>7</th>\n",
       "      <td>3.2</td>\n",
       "    </tr>\n",
       "    <tr>\n",
       "      <th>13</th>\n",
       "      <td>4.1</td>\n",
       "    </tr>\n",
       "    <tr>\n",
       "      <th>28</th>\n",
       "      <td>9.5</td>\n",
       "    </tr>\n",
       "    <tr>\n",
       "      <th>23</th>\n",
       "      <td>7.1</td>\n",
       "    </tr>\n",
       "  </tbody>\n",
       "</table>\n",
       "</div>"
      ],
      "text/plain": [
       "    YearsExperience\n",
       "12              4.0\n",
       "7               3.2\n",
       "13              4.1\n",
       "28              9.5\n",
       "23              7.1"
      ]
     },
     "execution_count": 27,
     "metadata": {},
     "output_type": "execute_result"
    }
   ],
   "source": [
    "test_1.head()"
   ]
  },
  {
   "cell_type": "code",
   "execution_count": 28,
   "metadata": {},
   "outputs": [
    {
     "data": {
      "text/html": [
       "<div>\n",
       "<style scoped>\n",
       "    .dataframe tbody tr th:only-of-type {\n",
       "        vertical-align: middle;\n",
       "    }\n",
       "\n",
       "    .dataframe tbody tr th {\n",
       "        vertical-align: top;\n",
       "    }\n",
       "\n",
       "    .dataframe thead th {\n",
       "        text-align: right;\n",
       "    }\n",
       "</style>\n",
       "<table border=\"1\" class=\"dataframe\">\n",
       "  <thead>\n",
       "    <tr style=\"text-align: right;\">\n",
       "      <th></th>\n",
       "      <th>YearsExperience</th>\n",
       "    </tr>\n",
       "  </thead>\n",
       "  <tbody>\n",
       "    <tr>\n",
       "      <th>31</th>\n",
       "      <td>10.5</td>\n",
       "    </tr>\n",
       "    <tr>\n",
       "      <th>14</th>\n",
       "      <td>4.2</td>\n",
       "    </tr>\n",
       "    <tr>\n",
       "      <th>23</th>\n",
       "      <td>7.1</td>\n",
       "    </tr>\n",
       "    <tr>\n",
       "      <th>9</th>\n",
       "      <td>3.7</td>\n",
       "    </tr>\n",
       "    <tr>\n",
       "      <th>25</th>\n",
       "      <td>8.2</td>\n",
       "    </tr>\n",
       "  </tbody>\n",
       "</table>\n",
       "</div>"
      ],
      "text/plain": [
       "    YearsExperience\n",
       "31             10.5\n",
       "14              4.2\n",
       "23              7.1\n",
       "9               3.7\n",
       "25              8.2"
      ]
     },
     "execution_count": 28,
     "metadata": {},
     "output_type": "execute_result"
    }
   ],
   "source": [
    "test_2.head()"
   ]
  },
  {
   "cell_type": "code",
   "execution_count": 29,
   "metadata": {},
   "outputs": [],
   "source": [
    "train_labels = train_set[\"Salary\"]  #set as regression response value"
   ]
  },
  {
   "cell_type": "code",
   "execution_count": 30,
   "metadata": {},
   "outputs": [],
   "source": [
    "train_labels1 = train_set1[\"Salary\"]  #set as regression response value"
   ]
  },
  {
   "cell_type": "code",
   "execution_count": 31,
   "metadata": {},
   "outputs": [],
   "source": [
    "train_labels2 = train_set2[\"Salary\"]  #set as regression response value"
   ]
  },
  {
   "cell_type": "code",
   "execution_count": 32,
   "metadata": {},
   "outputs": [
    {
     "data": {
      "text/plain": [
       "21    93940.0\n",
       "12    56957.0\n",
       "0     39343.0\n",
       "4     39891.0\n",
       "16    67938.0\n",
       "Name: Salary, dtype: float64"
      ]
     },
     "execution_count": 32,
     "metadata": {},
     "output_type": "execute_result"
    }
   ],
   "source": [
    "train_labels.head()"
   ]
  },
  {
   "cell_type": "code",
   "execution_count": 33,
   "metadata": {},
   "outputs": [
    {
     "data": {
      "text/plain": [
       "20     81363.0\n",
       "27    105582.0\n",
       "6      60150.0\n",
       "21     93940.0\n",
       "9      57189.0\n",
       "Name: Salary, dtype: float64"
      ]
     },
     "execution_count": 33,
     "metadata": {},
     "output_type": "execute_result"
    }
   ],
   "source": [
    "train_labels1.head()"
   ]
  },
  {
   "cell_type": "code",
   "execution_count": 34,
   "metadata": {},
   "outputs": [
    {
     "data": {
      "text/plain": [
       "19     82090.0\n",
       "12     56957.0\n",
       "1      46205.0\n",
       "16     67938.0\n",
       "27    105582.0\n",
       "Name: Salary, dtype: float64"
      ]
     },
     "execution_count": 34,
     "metadata": {},
     "output_type": "execute_result"
    }
   ],
   "source": [
    "train_labels2.head()"
   ]
  },
  {
   "cell_type": "code",
   "execution_count": 35,
   "metadata": {},
   "outputs": [],
   "source": [
    "train_set = train_set.drop([\"Salary\"], axis=1)"
   ]
  },
  {
   "cell_type": "code",
   "execution_count": 36,
   "metadata": {},
   "outputs": [],
   "source": [
    "train_set1 = train_set1.drop([\"Salary\"], axis=1)"
   ]
  },
  {
   "cell_type": "code",
   "execution_count": 37,
   "metadata": {},
   "outputs": [],
   "source": [
    "train_set2 = train_set2.drop([\"Salary\"], axis=1)"
   ]
  },
  {
   "cell_type": "code",
   "execution_count": 38,
   "metadata": {},
   "outputs": [
    {
     "data": {
      "text/html": [
       "<div>\n",
       "<style scoped>\n",
       "    .dataframe tbody tr th:only-of-type {\n",
       "        vertical-align: middle;\n",
       "    }\n",
       "\n",
       "    .dataframe tbody tr th {\n",
       "        vertical-align: top;\n",
       "    }\n",
       "\n",
       "    .dataframe thead th {\n",
       "        text-align: right;\n",
       "    }\n",
       "</style>\n",
       "<table border=\"1\" class=\"dataframe\">\n",
       "  <thead>\n",
       "    <tr style=\"text-align: right;\">\n",
       "      <th></th>\n",
       "      <th>YearsExperience</th>\n",
       "    </tr>\n",
       "  </thead>\n",
       "  <tbody>\n",
       "    <tr>\n",
       "      <th>21</th>\n",
       "      <td>6.0</td>\n",
       "    </tr>\n",
       "    <tr>\n",
       "      <th>12</th>\n",
       "      <td>4.0</td>\n",
       "    </tr>\n",
       "    <tr>\n",
       "      <th>0</th>\n",
       "      <td>1.1</td>\n",
       "    </tr>\n",
       "    <tr>\n",
       "      <th>4</th>\n",
       "      <td>2.2</td>\n",
       "    </tr>\n",
       "    <tr>\n",
       "      <th>16</th>\n",
       "      <td>4.9</td>\n",
       "    </tr>\n",
       "  </tbody>\n",
       "</table>\n",
       "</div>"
      ],
      "text/plain": [
       "    YearsExperience\n",
       "21              6.0\n",
       "12              4.0\n",
       "0               1.1\n",
       "4               2.2\n",
       "16              4.9"
      ]
     },
     "execution_count": 38,
     "metadata": {},
     "output_type": "execute_result"
    }
   ],
   "source": [
    "train_set.head()"
   ]
  },
  {
   "cell_type": "code",
   "execution_count": 39,
   "metadata": {},
   "outputs": [
    {
     "data": {
      "text/html": [
       "<div>\n",
       "<style scoped>\n",
       "    .dataframe tbody tr th:only-of-type {\n",
       "        vertical-align: middle;\n",
       "    }\n",
       "\n",
       "    .dataframe tbody tr th {\n",
       "        vertical-align: top;\n",
       "    }\n",
       "\n",
       "    .dataframe thead th {\n",
       "        text-align: right;\n",
       "    }\n",
       "</style>\n",
       "<table border=\"1\" class=\"dataframe\">\n",
       "  <thead>\n",
       "    <tr style=\"text-align: right;\">\n",
       "      <th></th>\n",
       "      <th>YearsExperience</th>\n",
       "    </tr>\n",
       "  </thead>\n",
       "  <tbody>\n",
       "    <tr>\n",
       "      <th>20</th>\n",
       "      <td>5.9</td>\n",
       "    </tr>\n",
       "    <tr>\n",
       "      <th>27</th>\n",
       "      <td>9.0</td>\n",
       "    </tr>\n",
       "    <tr>\n",
       "      <th>6</th>\n",
       "      <td>3.0</td>\n",
       "    </tr>\n",
       "    <tr>\n",
       "      <th>21</th>\n",
       "      <td>6.0</td>\n",
       "    </tr>\n",
       "    <tr>\n",
       "      <th>9</th>\n",
       "      <td>3.7</td>\n",
       "    </tr>\n",
       "  </tbody>\n",
       "</table>\n",
       "</div>"
      ],
      "text/plain": [
       "    YearsExperience\n",
       "20              5.9\n",
       "27              9.0\n",
       "6               3.0\n",
       "21              6.0\n",
       "9               3.7"
      ]
     },
     "execution_count": 39,
     "metadata": {},
     "output_type": "execute_result"
    }
   ],
   "source": [
    "train_set1.head()"
   ]
  },
  {
   "cell_type": "code",
   "execution_count": 40,
   "metadata": {},
   "outputs": [
    {
     "data": {
      "text/html": [
       "<div>\n",
       "<style scoped>\n",
       "    .dataframe tbody tr th:only-of-type {\n",
       "        vertical-align: middle;\n",
       "    }\n",
       "\n",
       "    .dataframe tbody tr th {\n",
       "        vertical-align: top;\n",
       "    }\n",
       "\n",
       "    .dataframe thead th {\n",
       "        text-align: right;\n",
       "    }\n",
       "</style>\n",
       "<table border=\"1\" class=\"dataframe\">\n",
       "  <thead>\n",
       "    <tr style=\"text-align: right;\">\n",
       "      <th></th>\n",
       "      <th>YearsExperience</th>\n",
       "    </tr>\n",
       "  </thead>\n",
       "  <tbody>\n",
       "    <tr>\n",
       "      <th>19</th>\n",
       "      <td>5.4</td>\n",
       "    </tr>\n",
       "    <tr>\n",
       "      <th>12</th>\n",
       "      <td>4.0</td>\n",
       "    </tr>\n",
       "    <tr>\n",
       "      <th>1</th>\n",
       "      <td>1.3</td>\n",
       "    </tr>\n",
       "    <tr>\n",
       "      <th>16</th>\n",
       "      <td>4.9</td>\n",
       "    </tr>\n",
       "    <tr>\n",
       "      <th>27</th>\n",
       "      <td>9.0</td>\n",
       "    </tr>\n",
       "  </tbody>\n",
       "</table>\n",
       "</div>"
      ],
      "text/plain": [
       "    YearsExperience\n",
       "19              5.4\n",
       "12              4.0\n",
       "1               1.3\n",
       "16              4.9\n",
       "27              9.0"
      ]
     },
     "execution_count": 40,
     "metadata": {},
     "output_type": "execute_result"
    }
   ],
   "source": [
    "train_set2.head()"
   ]
  },
  {
   "cell_type": "markdown",
   "metadata": {},
   "source": [
    "Now that we have our data in the correct form, we pass in the `train_set` and `train_labels` into the `fit` method to train the model."
   ]
  },
  {
   "cell_type": "code",
   "execution_count": 41,
   "metadata": {},
   "outputs": [
    {
     "data": {
      "text/plain": [
       "LinearRegression()"
      ]
     },
     "execution_count": 41,
     "metadata": {},
     "output_type": "execute_result"
    }
   ],
   "source": [
    "lin_reg = LinearRegression()\n",
    "\n",
    "lin_reg.fit(train_set, train_labels)"
   ]
  },
  {
   "cell_type": "code",
   "execution_count": 42,
   "metadata": {},
   "outputs": [
    {
     "data": {
      "text/plain": [
       "LinearRegression()"
      ]
     },
     "execution_count": 42,
     "metadata": {},
     "output_type": "execute_result"
    }
   ],
   "source": [
    "lin_reg1 = LinearRegression()\n",
    "\n",
    "lin_reg1.fit(train_set1, train_labels1)"
   ]
  },
  {
   "cell_type": "code",
   "execution_count": 43,
   "metadata": {},
   "outputs": [
    {
     "data": {
      "text/plain": [
       "LinearRegression()"
      ]
     },
     "execution_count": 43,
     "metadata": {},
     "output_type": "execute_result"
    }
   ],
   "source": [
    "lin_reg2 = LinearRegression()\n",
    "\n",
    "lin_reg2.fit(train_set2, train_labels2)"
   ]
  },
  {
   "cell_type": "markdown",
   "metadata": {},
   "source": [
    "Now we have a model and can call the `predict` function on it with inputs. "
   ]
  },
  {
   "cell_type": "code",
   "execution_count": 44,
   "metadata": {},
   "outputs": [
    {
     "data": {
      "text/plain": [
       "array([125140.84207167,  68282.98488399, 108083.48491537,  73968.77060276,\n",
       "        55963.78249333,  60701.93725897,  76811.66346214])"
      ]
     },
     "execution_count": 44,
     "metadata": {},
     "output_type": "execute_result"
    }
   ],
   "source": [
    "salary_pred = lin_reg.predict(test_)\n",
    "\n",
    "salary_pred"
   ]
  },
  {
   "cell_type": "code",
   "execution_count": 46,
   "metadata": {},
   "outputs": [
    {
     "data": {
      "text/plain": [
       "array([ 63544.83011835,  55963.78249333,  64492.46107148, 115664.53254039,\n",
       "        92921.38966532,  36063.53247764, 103345.33014973])"
      ]
     },
     "execution_count": 46,
     "metadata": {},
     "output_type": "execute_result"
    }
   ],
   "source": [
    "salary_pred1 = lin_reg.predict(test_1)\n",
    "\n",
    "salary_pred1"
   ]
  },
  {
   "cell_type": "code",
   "execution_count": 47,
   "metadata": {},
   "outputs": [
    {
     "data": {
      "text/plain": [
       "array([125140.84207167,  65440.09202461,  92921.38966532,  60701.93725897,\n",
       "       103345.33014973,  81549.81822778,  36063.53247764])"
      ]
     },
     "execution_count": 47,
     "metadata": {},
     "output_type": "execute_result"
    }
   ],
   "source": [
    "salary_pred2 = lin_reg.predict(test_2)\n",
    "\n",
    "salary_pred2"
   ]
  },
  {
   "cell_type": "markdown",
   "metadata": {},
   "source": [
    "## Analyze Results"
   ]
  },
  {
   "cell_type": "markdown",
   "metadata": {},
   "source": [
    "We can get the coefficients and intercept from our model."
   ]
  },
  {
   "cell_type": "code",
   "execution_count": 49,
   "metadata": {},
   "outputs": [
    {
     "name": "stdout",
     "output_type": "stream",
     "text": [
      "Coefficients data 0:  [9476.30953128]\n",
      "Intercept data 0:  25639.59199323001\n",
      "Coefficients data 1:  [9149.82832425]\n",
      "Intercept1 data 1:  26976.323549661764\n",
      "Coefficients2 data 2:  [9274.62338006]\n",
      "Intercept2 data 2:  26312.6052763467\n"
     ]
    }
   ],
   "source": [
    "print(\"Coefficients data 0: \", lin_reg.coef_)\n",
    "print(\"Intercept data 0: \", lin_reg.intercept_)\n",
    "print(\"Coefficients data 1: \", lin_reg1.coef_)\n",
    "print(\"Intercept1 data 1: \", lin_reg1.intercept_)\n",
    "print(\"Coefficients2 data 2: \", lin_reg2.coef_)\n",
    "print(\"Intercept2 data 2: \", lin_reg2.intercept_)"
   ]
  },
  {
   "cell_type": "markdown",
   "metadata": {},
   "source": [
    "With that information we can build our line formula - $y=9476.309x + 25639.591$\n",
    "\n",
    "We can compare our predictions to our testing set label columns."
   ]
  },
  {
   "cell_type": "code",
   "execution_count": 51,
   "metadata": {},
   "outputs": [
    {
     "name": "stdout",
     "output_type": "stream",
     "text": [
      "[125140.84207167  68282.98488399 108083.48491537  73968.77060276\n",
      "  55963.78249333  60701.93725897  76811.66346214]\n",
      "31    121872.0\n",
      "15     61111.0\n",
      "26    109431.0\n",
      "17     66029.0\n",
      "8      64445.0\n",
      "9      57189.0\n",
      "19     82090.0\n",
      "Name: Salary, dtype: float64\n",
      "[ 63544.83011835  55963.78249333  64492.46107148 115664.53254039\n",
      "  92921.38966532  36063.53247764 103345.33014973]\n",
      "12     56957.0\n",
      "7      54445.0\n",
      "13     57081.0\n",
      "28    116969.0\n",
      "23     98273.0\n",
      "0      39343.0\n",
      "25    113812.0\n",
      "Name: Salary, dtype: float64\n",
      "[125140.84207167  65440.09202461  92921.38966532  60701.93725897\n",
      " 103345.33014973  81549.81822778  36063.53247764]\n",
      "31    121872.0\n",
      "14     57000.0\n",
      "23     98273.0\n",
      "9      57189.0\n",
      "25    113812.0\n",
      "20     81363.0\n",
      "0      39343.0\n",
      "Name: Salary, dtype: float64\n"
     ]
    }
   ],
   "source": [
    "#compare predicted and actual salary\n",
    "print(salary_pred)\n",
    "print(test_set[\"Salary\"])\n",
    "print(salary_pred1)\n",
    "print(test_set1[\"Salary\"])\n",
    "print(salary_pred2)\n",
    "print(test_set2[\"Salary\"])\n"
   ]
  },
  {
   "cell_type": "code",
   "execution_count": null,
   "metadata": {},
   "outputs": [],
   "source": []
  },
  {
   "cell_type": "markdown",
   "metadata": {},
   "source": [
    "### Simple Model Evaluation\n",
    "\n",
    "We can also evaluate it using `MAE` (mean absolute error), `MSE` (mean squared error), `RMSE` (root mean square error).\n",
    "\n",
    "`MAE` represents average error. \n",
    "`MSE` is similar to `MAE` but larger errors are exaggerated more due the square function. The squared values make it much larger than the original units.\n",
    "`RMSE` is the square root of `MSE`. \n",
    "\n",
    "Models in `scikit-learn` have a `score` method. Depending on the model, this method will do a different calculation. For `LinearRegression` it calculates the $r^2$."
   ]
  },
  {
   "cell_type": "code",
   "execution_count": 68,
   "metadata": {},
   "outputs": [
    {
     "name": "stdout",
     "output_type": "stream",
     "text": [
      "1.\n",
      "MAE Data 0 : 5285.80056379283\n",
      "MSE Data 0 : 34158723.56875228\n",
      "RMSE Data 0 : 5844.546481015638\n",
      "r(corr) : 0.9392722746799265\n",
      "r(square) : 0.9392722746799265\n",
      "2.\n",
      "MAE Data 1 : 5131.469835726059\n",
      "MSE Data 1 : 35897630.665232845\n",
      "RMSE Data 1 : 5991.463148950584\n",
      "r(corr) : 0.9516755318910548\n",
      "r(square) : 0.9590063213453132\n",
      "3.\n",
      "MAE Data 1 : 4929.491041477399\n",
      "MSE Data 1 : 34748847.03830582\n",
      "RMSE Data 1 : 5894.815267530088\n",
      "r(corr) : 0.9561100318820074\n",
      "r(square) : 0.9589355274882074\n"
     ]
    }
   ],
   "source": [
    "from sklearn import metrics\n",
    "#Data 0 \n",
    "print(\"1.\\nMAE Data 0 :\", metrics.mean_absolute_error(test_set[\"Salary\"],salary_pred))\n",
    "print(\"MSE Data 0 :\", metrics.mean_squared_error(test_set[\"Salary\"],salary_pred))\n",
    "print(\"RMSE Data 0 :\", np.sqrt(metrics.mean_squared_error(test_set[\"Salary\"],salary_pred)))\n",
    "print(\"r(corr) :\", lin_reg.score(test_, test_set[\"Salary\"]))\n",
    "print(\"r(square) :\", r2_score(test_set[\"Salary\"], salary_pred))\n",
    "#Data 1 \n",
    "print(\"2.\\nMAE Data 1 :\", metrics.mean_absolute_error(test_set1[\"Salary\"],salary_pred1))\n",
    "print(\"MSE Data 1 :\" , metrics.mean_squared_error(test_set1[\"Salary\"],salary_pred1))\n",
    "print(\"RMSE Data 1 :\", np.sqrt(metrics.mean_squared_error(test_set1[\"Salary\"],salary_pred1)))\n",
    "print(\"r(corr) :\", lin_reg1.score(test_1, test_set1[\"Salary\"]))\n",
    "print(\"r(square) :\", r2_score(test_set1[\"Salary\"], salary_pred1))\n",
    "#Data 2 \n",
    "print(\"3.\\nMAE Data 1 :\", metrics.mean_absolute_error(test_set2[\"Salary\"],salary_pred2))\n",
    "print(\"MSE Data 1 :\" , metrics.mean_squared_error(test_set2[\"Salary\"],salary_pred2))\n",
    "print(\"RMSE Data 1 :\", np.sqrt(metrics.mean_squared_error(test_set2[\"Salary\"],salary_pred2)))\n",
    "print(\"r(corr) :\", lin_reg2.score(test_2, test_set2[\"Salary\"]))\n",
    "print(\"r(square) :\", r2_score(test_set2[\"Salary\"], salary_pred2))"
   ]
  },
  {
   "cell_type": "markdown",
   "metadata": {},
   "source": [
    "There's also a separate `r2_score` method that will calculate the $r^2$. It is a goodness of fit measure. Higher value is generally better. We will discuss this later. "
   ]
  },
  {
   "cell_type": "code",
   "execution_count": 64,
   "metadata": {},
   "outputs": [
    {
     "data": {
      "text/plain": [
       "0.9392722746799265"
      ]
     },
     "execution_count": 64,
     "metadata": {},
     "output_type": "execute_result"
    }
   ],
   "source": [
    "r2_score(test_set[\"Salary\"], salary_pred)"
   ]
  },
  {
   "cell_type": "markdown",
   "metadata": {},
   "source": [
    "### Plot Prediction\n",
    "\n",
    "We can also plot our test data as a scatter plot and, with our predicted salary that we got from our model, plot a line to see how well it fits the data."
   ]
  },
  {
   "cell_type": "code",
   "execution_count": 88,
   "metadata": {},
   "outputs": [
    {
     "data": {
      "text/plain": [
       "[<matplotlib.lines.Line2D at 0x1d7bc2dd220>]"
      ]
     },
     "execution_count": 88,
     "metadata": {},
     "output_type": "execute_result"
    },
    {
     "data": {
      "image/png": "[encoded data removed]",
      "text/plain": [
       "<Figure size 432x288 with 1 Axes>"
      ]
     },
     "metadata": {
      "needs_background": "light"
     },
     "output_type": "display_data"
    }
   ],
   "source": [
    "plt.scatter(test_set[\"YearsExperience\"], test_set[\"Salary\"], color='blue')\n",
    "plt.plot(test_set[\"YearsExperience\"], salary_pred, color='red', linewidth=2)\n",
    "\n",
    "plt.scatter(test_set1[\"YearsExperience\"], test_set1[\"Salary\"], color='yellow')\n",
    "plt.plot(test_set1[\"YearsExperience\"], salary_pred1, color='blue', linewidth=2)\n",
    "\n",
    "plt.scatter(test_set2[\"YearsExperience\"], test_set2[\"Salary\"], color='black')\n",
    "plt.plot(test_set2[\"YearsExperience\"], salary_pred2, color='green', linewidth=2)"
   ]
  },
  {
   "cell_type": "markdown",
   "metadata": {},
   "source": [
    "We can also plot the regression line directly from the equation obtained earlier: $y=9476.309x + 25639.591$"
   ]
  },
  {
   "cell_type": "code",
   "execution_count": 89,
   "metadata": {},
   "outputs": [
    {
     "data": {
      "image/png": "[encoded data removed]",
      "text/plain": [
       "<Figure size 432x288 with 1 Axes>"
      ]
     },
     "metadata": {
      "needs_background": "light"
     },
     "output_type": "display_data"
    }
   ],
   "source": [
    "x = np.linspace(3,11,40)\n",
    "#x = 8\n",
    "y = 9476.309*x+25639.7\n",
    "y1 = 9270.53752187*x+25588.268626329256\n",
    "y2 = 9307.15886141*x+26200.131157339885\n",
    "plt.scatter(test_set[\"YearsExperience\"], test_set[\"Salary\"], color='blue')\n",
    "plt.plot(x, y, '-r', label='Reg Line')\n",
    "plt.title('Predicted Regression')\n",
    "plt.xlabel('Exp', color='#1C2833')\n",
    "plt.ylabel('sal', color='#1C2833')\n",
    "plt.show()"
   ]
  },
  {
   "cell_type": "markdown",
   "metadata": {},
   "source": [
    "### Question\n",
    "1. What is the predicted salary of somebody with 8 years of experience? Where did you obtain the prediction from?\n",
    "\n",
    "Re-run the regression 2 more times with different train-test split. Plot the 3 linear regression line together. \n",
    "1. What can say about the 3 regression lines?\n",
    "1. What is predicted salary for 8 years of experience for all 3 regression?\n",
    "1. Are the predicted values similar?\n",
    "1. Can you explain your answer in question (1&2) above? That is explain why the answers are similar (or not similar) after doing a separate train-test split.\n"
   ]
  },
  {
   "cell_type": "code",
   "execution_count": 91,
   "metadata": {},
   "outputs": [
    {
     "name": "stdout",
     "output_type": "stream",
     "text": [
      "salary 101450.17199999999\n"
     ]
    }
   ],
   "source": [
    "# 1. Based on the predicted salary (original random seed= 42), somebody with 8 years experience will obtain 100000 above see the below \n",
    "y = 9476.309*x+25639.7\n",
    "x = 8\n",
    "print(\"salary\", str(y))\n",
    "\n",
    "#the regression function obtain from the first model. Set x=8 into the function. "
   ]
  },
  {
   "cell_type": "code",
   "execution_count": 125,
   "metadata": {},
   "outputs": [
    {
     "name": "stdout",
     "output_type": "stream",
     "text": [
      "From the results of the 3 lines for the regression prediction,\n",
      "it can be seen that the lines overlap with each other,\n",
      "so this gives the result that the variation in the value of the data points taken \n",
      "does not give a significant change to the model formed, so that the resulting model is suitable for any data point\n"
     ]
    },
    {
     "data": {
      "image/png": "[encoded data removed]",
      "text/plain": [
       "<Figure size 432x288 with 1 Axes>"
      ]
     },
     "metadata": {
      "needs_background": "light"
     },
     "output_type": "display_data"
    }
   ],
   "source": [
    "#2 \n",
    "\n",
    "#1.What can say about the 3 regression lines? \n",
    "# Regression plot\n",
    "sns.regplot('YearsExperience', # Horizontal axis\n",
    "           'Salary', # Vertical axis\n",
    "           data=train_set0, color='green')\n",
    "sns.regplot('YearsExperience', # Horizontal axis\n",
    "           'Salary', # Vertical axis\n",
    "           data=train_set11, color='yellow')\n",
    "sns.regplot('YearsExperience', # Horizontal axis\n",
    "           'Salary', # Vertical axis\n",
    "           data=train_set22, color='red')\n",
    "print(\"From the results of the 3 lines for the regression prediction,\\nit can be seen that the lines overlap with each other,\\nso this gives the result that the variation in the value of the data points taken \\ndoes not give a significant change to the model formed, so that the resulting model is suitable for any data point\")"
   ]
  },
  {
   "cell_type": "code",
   "execution_count": null,
   "metadata": {},
   "outputs": [],
   "source": [
    "#From the results of the 3 lines for the regression prediction, it can be seen that the lines overlap with each other, so this gives the result that the variation in the value of the data points taken does not give a significant change to the model formed. so that the resulting model is suitable for any data point"
   ]
  },
  {
   "cell_type": "code",
   "execution_count": 128,
   "metadata": {},
   "outputs": [
    {
     "name": "stdout",
     "output_type": "stream",
     "text": [
      "1. salary dataset 0:  [101450.06824347]\n",
      "2. salary dataset 1:  [100174.95014369]\n",
      "3. salary dataset 2:  [100509.59231686]\n"
     ]
    }
   ],
   "source": [
    "# 2. What is predicted salary for 8 years of experience for all 3 regression?\n",
    "#9476.309*x+25639.7\n",
    "y = (lin_reg.coef_)*x+(lin_reg.intercept_)\n",
    "x = 8\n",
    "print(\"1. salary dataset 0: \", y)\n",
    "\n",
    "y = (lin_reg1.coef_)*x+(lin_reg1.intercept_)\n",
    "x = 8\n",
    "print(\"2. salary dataset 1: \", str(y))\n",
    "\n",
    "y = (lin_reg2.coef_)*x+(lin_reg2.intercept_)\n",
    "x = 8\n",
    "print(\"3. salary dataset 2: \", str(y))\n"
   ]
  },
  {
   "cell_type": "code",
   "execution_count": 131,
   "metadata": {},
   "outputs": [
    {
     "name": "stdout",
     "output_type": "stream",
     "text": [
      "From answer number 2 it can be seen that the results are almost the same and at the same rate,\n",
      "the plot results below also show overlapping results for the 3 regression lines obtained.\n"
     ]
    },
    {
     "data": {
      "image/png": "[encoded data removed]",
      "text/plain": [
       "<Figure size 432x288 with 1 Axes>"
      ]
     },
     "metadata": {
      "needs_background": "light"
     },
     "output_type": "display_data"
    }
   ],
   "source": [
    "#3. Are the predicted values similar?\n",
    "plt.scatter(test_set[\"YearsExperience\"], test_set[\"Salary\"], color='blue')\n",
    "plt.plot(test_set[\"YearsExperience\"], salary_pred, color='red', linewidth=2)\n",
    "\n",
    "plt.scatter(test_set1[\"YearsExperience\"], test_set1[\"Salary\"], color='yellow')\n",
    "plt.plot(test_set1[\"YearsExperience\"], salary_pred1, color='blue', linewidth=2)\n",
    "\n",
    "plt.scatter(test_set2[\"YearsExperience\"], test_set2[\"Salary\"], color='black')\n",
    "plt.plot(test_set2[\"YearsExperience\"], salary_pred2, color='green', linewidth=2)\n",
    "\n",
    "print(\"From answer number 2 it can be seen that the results are almost the same and at the same rate,\\nthe plot results below also show overlapping results for the 3 regression lines obtained.\")"
   ]
  },
  {
   "cell_type": "code",
   "execution_count": 132,
   "metadata": {},
   "outputs": [
    {
     "name": "stdout",
     "output_type": "stream",
     "text": [
      "1.\n",
      "MAE Data 0 : 5285.80056379283\n",
      "MSE Data 0 : 34158723.56875228\n",
      "RMSE Data 0 : 5844.546481015638\n",
      "r(corr) : 0.9392722746799265\n",
      "r(square) : 0.9392722746799265\n",
      "2.\n",
      "MAE Data 1 : 5131.469835726059\n",
      "MSE Data 1 : 35897630.665232845\n",
      "RMSE Data 1 : 5991.463148950584\n",
      "r(corr) : 0.9516755318910548\n",
      "r(square) : 0.9590063213453132\n",
      "3.\n",
      "MAE Data 1 : 4929.491041477399\n",
      "MSE Data 1 : 34748847.03830582\n",
      "RMSE Data 1 : 5894.815267530088\n",
      "r(corr) : 0.9561100318820074\n",
      "r(square) : 0.9589355274882074\n"
     ]
    }
   ],
   "source": [
    "# 4. Can you explain your answer in question (1&2) above? That is explain why the answers are similar (or not similar) after doing a separate train-test split.\n",
    "from sklearn import metrics\n",
    "#Data 0 \n",
    "print(\"1.\\nMAE Data 0 :\", metrics.mean_absolute_error(test_set[\"Salary\"],salary_pred))\n",
    "print(\"MSE Data 0 :\", metrics.mean_squared_error(test_set[\"Salary\"],salary_pred))\n",
    "print(\"RMSE Data 0 :\", np.sqrt(metrics.mean_squared_error(test_set[\"Salary\"],salary_pred)))\n",
    "print(\"r(corr) :\", lin_reg.score(test_, test_set[\"Salary\"]))\n",
    "print(\"r(square) :\", r2_score(test_set[\"Salary\"], salary_pred))\n",
    "#Data 1 \n",
    "print(\"2.\\nMAE Data 1 :\", metrics.mean_absolute_error(test_set1[\"Salary\"],salary_pred1))\n",
    "print(\"MSE Data 1 :\" , metrics.mean_squared_error(test_set1[\"Salary\"],salary_pred1))\n",
    "print(\"RMSE Data 1 :\", np.sqrt(metrics.mean_squared_error(test_set1[\"Salary\"],salary_pred1)))\n",
    "print(\"r(corr) :\", lin_reg1.score(test_1, test_set1[\"Salary\"]))\n",
    "print(\"r(square) :\", r2_score(test_set1[\"Salary\"], salary_pred1))\n",
    "#Data 2 \n",
    "print(\"3.\\nMAE Data 1 :\", metrics.mean_absolute_error(test_set2[\"Salary\"],salary_pred2))\n",
    "print(\"MSE Data 1 :\" , metrics.mean_squared_error(test_set2[\"Salary\"],salary_pred2))\n",
    "print(\"RMSE Data 1 :\", np.sqrt(metrics.mean_squared_error(test_set2[\"Salary\"],salary_pred2)))\n",
    "print(\"r(corr) :\", lin_reg2.score(test_2, test_set2[\"Salary\"]))\n",
    "print(\"r(square) :\", r2_score(test_set2[\"Salary\"], salary_pred2))"
   ]
  },
  {
   "cell_type": "code",
   "execution_count": null,
   "metadata": {},
   "outputs": [],
   "source": [
    "The results of the three regressions have low variance among them. \n",
    "can be seen from the results obtained accuracy and also the correlation value. \n",
    "The performance value between one data and another is in the same range. \n",
    "whereas for the bias value, it shows low results too, because the accuracy value is quite high, \n",
    "this shows that the actual Y and Y predict values \n",
    "are not much different.\n",
    "\n",
    "Low Accuracy and Low Bias. "
   ]
  },
  {
   "cell_type": "code",
   "execution_count": null,
   "metadata": {},
   "outputs": [],
   "source": []
  }
 ],
 "metadata": {
  "kernelspec": {
   "display_name": "Python 3",
   "language": "python",
   "name": "python3"
  },
  "language_info": {
   "codemirror_mode": {
    "name": "ipython",
    "version": 3
   },
   "file_extension": ".py",
   "mimetype": "text/x-python",
   "name": "python",
   "nbconvert_exporter": "python",
   "pygments_lexer": "ipython3",
   "version": "3.8.3"
  }
 },
 "nbformat": 4,
 "nbformat_minor": 4
}
