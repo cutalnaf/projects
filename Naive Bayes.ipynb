{
 "cells": [
  {
   "cell_type": "markdown",
   "metadata": {},
   "source": [
    "### Naive Bayes Classification of Iris\n",
    "\n",
    "The Iris dataset was used in R.A. Fisher's classic 1936 paper, The Use of Multiple Measurements in Taxonomic Problems, and can also be found on the UCI Machine Learning Repository. It includes three iris species with 50 samples each as well as some properties about each flower. \n",
    "![](L6-img/iris.png)\n",
    "\n",
    "| Dataset             | Iris\n",
    "|---------------------|-----------------------------------|\n",
    "| Number of Instances | 150 (50 per class) |\n",
    "| Number of Attributes | 4 numeric                        |\n",
    "| Attribute            | Sepal length/cm               |\n",
    "| Attribute            | Sepal width/cm                |\n",
    "|  Attribute           | Petal length/cm               |\n",
    "|  Attribute           | Petal width/cm                |\n",
    "| class                | Iris-Setosa                      |\n",
    "| class                | Iris-Versicolour                 |\n",
    "| class                | Iris-Virginica                   |\n",
    "\n",
    "\n",
    "\n",
    "\n",
    "\n"
   ]
  },
  {
   "cell_type": "code",
   "execution_count": 2,
   "metadata": {},
   "outputs": [
    {
     "data": {
      "text/plain": [
       "array([[5.1, 3.5, 1.4, 0.2],\n",
       "       [4.9, 3. , 1.4, 0.2],\n",
       "       [4.7, 3.2, 1.3, 0.2],\n",
       "       [4.6, 3.1, 1.5, 0.2],\n",
       "       [5. , 3.6, 1.4, 0.2],\n",
       "       [5.4, 3.9, 1.7, 0.4],\n",
       "       [4.6, 3.4, 1.4, 0.3],\n",
       "       [5. , 3.4, 1.5, 0.2],\n",
       "       [4.4, 2.9, 1.4, 0.2],\n",
       "       [4.9, 3.1, 1.5, 0.1],\n",
       "       [5.4, 3.7, 1.5, 0.2],\n",
       "       [4.8, 3.4, 1.6, 0.2],\n",
       "       [4.8, 3. , 1.4, 0.1],\n",
       "       [4.3, 3. , 1.1, 0.1],\n",
       "       [5.8, 4. , 1.2, 0.2],\n",
       "       [5.7, 4.4, 1.5, 0.4],\n",
       "       [5.4, 3.9, 1.3, 0.4],\n",
       "       [5.1, 3.5, 1.4, 0.3],\n",
       "       [5.7, 3.8, 1.7, 0.3],\n",
       "       [5.1, 3.8, 1.5, 0.3],\n",
       "       [5.4, 3.4, 1.7, 0.2],\n",
       "       [5.1, 3.7, 1.5, 0.4],\n",
       "       [4.6, 3.6, 1. , 0.2],\n",
       "       [5.1, 3.3, 1.7, 0.5],\n",
       "       [4.8, 3.4, 1.9, 0.2],\n",
       "       [5. , 3. , 1.6, 0.2],\n",
       "       [5. , 3.4, 1.6, 0.4],\n",
       "       [5.2, 3.5, 1.5, 0.2],\n",
       "       [5.2, 3.4, 1.4, 0.2],\n",
       "       [4.7, 3.2, 1.6, 0.2],\n",
       "       [4.8, 3.1, 1.6, 0.2],\n",
       "       [5.4, 3.4, 1.5, 0.4],\n",
       "       [5.2, 4.1, 1.5, 0.1],\n",
       "       [5.5, 4.2, 1.4, 0.2],\n",
       "       [4.9, 3.1, 1.5, 0.2],\n",
       "       [5. , 3.2, 1.2, 0.2],\n",
       "       [5.5, 3.5, 1.3, 0.2],\n",
       "       [4.9, 3.6, 1.4, 0.1],\n",
       "       [4.4, 3. , 1.3, 0.2],\n",
       "       [5.1, 3.4, 1.5, 0.2],\n",
       "       [5. , 3.5, 1.3, 0.3],\n",
       "       [4.5, 2.3, 1.3, 0.3],\n",
       "       [4.4, 3.2, 1.3, 0.2],\n",
       "       [5. , 3.5, 1.6, 0.6],\n",
       "       [5.1, 3.8, 1.9, 0.4],\n",
       "       [4.8, 3. , 1.4, 0.3],\n",
       "       [5.1, 3.8, 1.6, 0.2],\n",
       "       [4.6, 3.2, 1.4, 0.2],\n",
       "       [5.3, 3.7, 1.5, 0.2],\n",
       "       [5. , 3.3, 1.4, 0.2],\n",
       "       [7. , 3.2, 4.7, 1.4],\n",
       "       [6.4, 3.2, 4.5, 1.5],\n",
       "       [6.9, 3.1, 4.9, 1.5],\n",
       "       [5.5, 2.3, 4. , 1.3],\n",
       "       [6.5, 2.8, 4.6, 1.5],\n",
       "       [5.7, 2.8, 4.5, 1.3],\n",
       "       [6.3, 3.3, 4.7, 1.6],\n",
       "       [4.9, 2.4, 3.3, 1. ],\n",
       "       [6.6, 2.9, 4.6, 1.3],\n",
       "       [5.2, 2.7, 3.9, 1.4],\n",
       "       [5. , 2. , 3.5, 1. ],\n",
       "       [5.9, 3. , 4.2, 1.5],\n",
       "       [6. , 2.2, 4. , 1. ],\n",
       "       [6.1, 2.9, 4.7, 1.4],\n",
       "       [5.6, 2.9, 3.6, 1.3],\n",
       "       [6.7, 3.1, 4.4, 1.4],\n",
       "       [5.6, 3. , 4.5, 1.5],\n",
       "       [5.8, 2.7, 4.1, 1. ],\n",
       "       [6.2, 2.2, 4.5, 1.5],\n",
       "       [5.6, 2.5, 3.9, 1.1],\n",
       "       [5.9, 3.2, 4.8, 1.8],\n",
       "       [6.1, 2.8, 4. , 1.3],\n",
       "       [6.3, 2.5, 4.9, 1.5],\n",
       "       [6.1, 2.8, 4.7, 1.2],\n",
       "       [6.4, 2.9, 4.3, 1.3],\n",
       "       [6.6, 3. , 4.4, 1.4],\n",
       "       [6.8, 2.8, 4.8, 1.4],\n",
       "       [6.7, 3. , 5. , 1.7],\n",
       "       [6. , 2.9, 4.5, 1.5],\n",
       "       [5.7, 2.6, 3.5, 1. ],\n",
       "       [5.5, 2.4, 3.8, 1.1],\n",
       "       [5.5, 2.4, 3.7, 1. ],\n",
       "       [5.8, 2.7, 3.9, 1.2],\n",
       "       [6. , 2.7, 5.1, 1.6],\n",
       "       [5.4, 3. , 4.5, 1.5],\n",
       "       [6. , 3.4, 4.5, 1.6],\n",
       "       [6.7, 3.1, 4.7, 1.5],\n",
       "       [6.3, 2.3, 4.4, 1.3],\n",
       "       [5.6, 3. , 4.1, 1.3],\n",
       "       [5.5, 2.5, 4. , 1.3],\n",
       "       [5.5, 2.6, 4.4, 1.2],\n",
       "       [6.1, 3. , 4.6, 1.4],\n",
       "       [5.8, 2.6, 4. , 1.2],\n",
       "       [5. , 2.3, 3.3, 1. ],\n",
       "       [5.6, 2.7, 4.2, 1.3],\n",
       "       [5.7, 3. , 4.2, 1.2],\n",
       "       [5.7, 2.9, 4.2, 1.3],\n",
       "       [6.2, 2.9, 4.3, 1.3],\n",
       "       [5.1, 2.5, 3. , 1.1],\n",
       "       [5.7, 2.8, 4.1, 1.3],\n",
       "       [6.3, 3.3, 6. , 2.5],\n",
       "       [5.8, 2.7, 5.1, 1.9],\n",
       "       [7.1, 3. , 5.9, 2.1],\n",
       "       [6.3, 2.9, 5.6, 1.8],\n",
       "       [6.5, 3. , 5.8, 2.2],\n",
       "       [7.6, 3. , 6.6, 2.1],\n",
       "       [4.9, 2.5, 4.5, 1.7],\n",
       "       [7.3, 2.9, 6.3, 1.8],\n",
       "       [6.7, 2.5, 5.8, 1.8],\n",
       "       [7.2, 3.6, 6.1, 2.5],\n",
       "       [6.5, 3.2, 5.1, 2. ],\n",
       "       [6.4, 2.7, 5.3, 1.9],\n",
       "       [6.8, 3. , 5.5, 2.1],\n",
       "       [5.7, 2.5, 5. , 2. ],\n",
       "       [5.8, 2.8, 5.1, 2.4],\n",
       "       [6.4, 3.2, 5.3, 2.3],\n",
       "       [6.5, 3. , 5.5, 1.8],\n",
       "       [7.7, 3.8, 6.7, 2.2],\n",
       "       [7.7, 2.6, 6.9, 2.3],\n",
       "       [6. , 2.2, 5. , 1.5],\n",
       "       [6.9, 3.2, 5.7, 2.3],\n",
       "       [5.6, 2.8, 4.9, 2. ],\n",
       "       [7.7, 2.8, 6.7, 2. ],\n",
       "       [6.3, 2.7, 4.9, 1.8],\n",
       "       [6.7, 3.3, 5.7, 2.1],\n",
       "       [7.2, 3.2, 6. , 1.8],\n",
       "       [6.2, 2.8, 4.8, 1.8],\n",
       "       [6.1, 3. , 4.9, 1.8],\n",
       "       [6.4, 2.8, 5.6, 2.1],\n",
       "       [7.2, 3. , 5.8, 1.6],\n",
       "       [7.4, 2.8, 6.1, 1.9],\n",
       "       [7.9, 3.8, 6.4, 2. ],\n",
       "       [6.4, 2.8, 5.6, 2.2],\n",
       "       [6.3, 2.8, 5.1, 1.5],\n",
       "       [6.1, 2.6, 5.6, 1.4],\n",
       "       [7.7, 3. , 6.1, 2.3],\n",
       "       [6.3, 3.4, 5.6, 2.4],\n",
       "       [6.4, 3.1, 5.5, 1.8],\n",
       "       [6. , 3. , 4.8, 1.8],\n",
       "       [6.9, 3.1, 5.4, 2.1],\n",
       "       [6.7, 3.1, 5.6, 2.4],\n",
       "       [6.9, 3.1, 5.1, 2.3],\n",
       "       [5.8, 2.7, 5.1, 1.9],\n",
       "       [6.8, 3.2, 5.9, 2.3],\n",
       "       [6.7, 3.3, 5.7, 2.5],\n",
       "       [6.7, 3. , 5.2, 2.3],\n",
       "       [6.3, 2.5, 5. , 1.9],\n",
       "       [6.5, 3. , 5.2, 2. ],\n",
       "       [6.2, 3.4, 5.4, 2.3],\n",
       "       [5.9, 3. , 5.1, 1.8]])"
      ]
     },
     "execution_count": 2,
     "metadata": {},
     "output_type": "execute_result"
    }
   ],
   "source": [
    "import matplotlib.pyplot as plt\n",
    "from sklearn import datasets\n",
    "import numpy as np\n",
    "import seaborn as sns\n",
    "\n",
    "# import some data to play with\n",
    "iris = datasets.load_iris()\n",
    "column_names = iris.feature_names\n",
    "iris.data[:,:]"
   ]
  },
  {
   "cell_type": "code",
   "execution_count": 3,
   "metadata": {},
   "outputs": [
    {
     "data": {
      "image/png": "[encoded data removed]",
      "text/plain": [
       "<Figure size 432x288 with 1 Axes>"
      ]
     },
     "metadata": {
      "needs_background": "light"
     },
     "output_type": "display_data"
    }
   ],
   "source": [
    "X = iris.data[:, 0]  # we only take the first feature\n",
    "y = iris.target\n",
    "X = np.squeeze(X)\n",
    "#plt.figure(figsize=(12,4))\n",
    "ax=sns.swarmplot(x=y,y=X,hue=y)"
   ]
  },
  {
   "cell_type": "code",
   "execution_count": 4,
   "metadata": {},
   "outputs": [
    {
     "data": {
      "image/png": "[encoded data removed]",
      "text/plain": [
       "<Figure size 432x288 with 1 Axes>"
      ]
     },
     "metadata": {
      "needs_background": "light"
     },
     "output_type": "display_data"
    }
   ],
   "source": [
    "X = iris.data[:,1]  # we only take the 2nd feature\n",
    "y = iris.target\n",
    "X = np.squeeze(X)\n",
    "#plt.figure(figsize=(12,4))\n",
    "ax=sns.swarmplot(x=y,y=X,hue=y)\n",
    " "
   ]
  },
  {
   "cell_type": "code",
   "execution_count": 5,
   "metadata": {},
   "outputs": [
    {
     "data": {
      "image/png": "[encoded data removed]",
      "text/plain": [
       "<Figure size 432x288 with 1 Axes>"
      ]
     },
     "metadata": {
      "needs_background": "light"
     },
     "output_type": "display_data"
    }
   ],
   "source": [
    "X = iris.data[:,2]  # we only take the 3rd feature\n",
    "y = iris.target\n",
    "X = np.squeeze(X)\n",
    "#plt.figure(figsize=(12,4))\n",
    "ax=sns.swarmplot(x=y,y=X,hue=y)"
   ]
  },
  {
   "cell_type": "markdown",
   "metadata": {},
   "source": [
    "### Question\n",
    "1. What can you say about the two features plotted above with regards to the use of it for classification? (Hint: can you use them for classification?)"
   ]
  },
  {
   "cell_type": "code",
   "execution_count": 6,
   "metadata": {},
   "outputs": [
    {
     "ename": "SyntaxError",
     "evalue": "invalid syntax (<ipython-input-6-f557691d6d80>, line 1)",
     "output_type": "error",
     "traceback": [
      "\u001b[1;36m  File \u001b[1;32m\"<ipython-input-6-f557691d6d80>\"\u001b[1;36m, line \u001b[1;32m1\u001b[0m\n\u001b[1;33m    The selected feature must be the best feature one. I will choose the data point that have high different between each other. Using this features can make a good classification.\u001b[0m\n\u001b[1;37m        ^\u001b[0m\n\u001b[1;31mSyntaxError\u001b[0m\u001b[1;31m:\u001b[0m invalid syntax\n"
     ]
    }
   ],
   "source": [
    "The selected feature must be the best feature one. I will choose the data point that have high different between each other. Using this features can make a good classification."
   ]
  },
  {
   "cell_type": "markdown",
   "metadata": {},
   "source": [
    "### Naive Bayes Classifier\n",
    "\n",
    "\n"
   ]
  },
  {
   "cell_type": "markdown",
   "metadata": {},
   "source": [
    "We want to calculate this:\n",
    "\n",
    "$P(y|X) = \\frac{P(X|y)P(y)}{P(X)}$\n",
    "\n",
    "Where y is the class variable and X is the feature vector of size N. N tells us how many different types of X attributes there are - eg sepal width, sepal length, etc. \n",
    "\n",
    "So $P(y|X)$ would be the probability of class y given the X attribute (eg sepal length, sepal width). That is if we have an X attribute value , what is its probability for it belonging to class y=0, y=1, y=2. \n",
    "\n",
    "This is exactly what the classifier does, given whatever value of X, find out which class it most probably belongs to. \n",
    "\n",
    "We can find $P(y|X)$ by this formula (assuming that X attributes are all independent): \n",
    "\n",
    "$P(y|x_{1},..,x_{n}) = \\frac{P(x_{1}|y)P(x_{2}|y) ... P(x_{n}|y)P(y)}{P(x_{1})P(x_{2})... P(x_{n})}$\n",
    "\n",
    "Where $x_{1}$ is the sepal width attribute, $x_{2}$ is sepal length attribute, etc.\n",
    "\n",
    "Can be rewritten as: \n",
    "\n",
    "$P(y|x_{1},..,x_{n}) =\\frac{P(y)\\prod_{i=1}^{n}{P(x_{i}|y)}} {P(x_{1})P(x_{2})... P(x_{n})}$\n",
    "\n",
    "$P(y|x_{1},..,x_{n}) \\propto P(y)\\prod_{i=1}^{n}{P(x_{i}|y)}$\n",
    "\n",
    "We just need to calculate $P(x_{i}|y)$\n",
    "\n",
    "We call this approach **naive bayes** because it is naive to assume that the attributes are independent, i.e. the attributes do not influence each other. For example we assume that the petal length and width are not influenced by each other. Nevertheless this assumption works well in many cases. \n",
    "\n",
    "In order to make it easy to calculate $P(x_{i}|y)$ we put the continous data into discrete bins. To calculate the probability we simply count the number of data points in each bins per class. "
   ]
  },
  {
   "cell_type": "markdown",
   "metadata": {},
   "source": [
    "In this example because X is continous need to discretize it into bins. It makes it easier for us to calculate as we just need to count and divide them. \n",
    "\n",
    "NOTE: This is just a demo, there are better ways to deal with continuous values. \n",
    "\n",
    "So in our example the continous X values are put into 6 separate bins (or categories). You can try to see if more bins are better."
   ]
  },
  {
   "cell_type": "code",
   "execution_count": 7,
   "metadata": {},
   "outputs": [],
   "source": [
    "from sklearn import preprocessing\n",
    "X = iris.data[:,2] #petal length\n",
    "X = X.reshape(-1, 1)\n",
    "enc = preprocessing.KBinsDiscretizer(n_bins=6, encode='ordinal').fit(X)\n",
    "X_binned = enc.fit_transform(X)\n"
   ]
  },
  {
   "cell_type": "code",
   "execution_count": 8,
   "metadata": {},
   "outputs": [
    {
     "name": "stdout",
     "output_type": "stream",
     "text": [
      "[0. 0. 0. 1. 0. 1. 0. 1. 0. 1. 1. 1. 0. 0. 0. 1. 0. 0. 1. 1. 1. 1. 0. 1.\n",
      " 1. 1. 1. 1. 0. 1. 1. 1. 1. 0. 1. 0. 0. 0. 0. 1. 0. 0. 0. 1. 1. 0. 1. 0.\n",
      " 1. 0. 3. 3. 4. 2. 3. 3. 3. 2. 3. 2. 2. 2. 2. 3. 2. 3. 3. 2. 3. 2. 3. 2.\n",
      " 4. 3. 2. 3. 3. 4. 3. 2. 2. 2. 2. 4. 3. 3. 3. 3. 2. 2. 3. 3. 2. 2. 2. 2.\n",
      " 2. 2. 2. 2. 5. 4. 5. 5. 5. 5. 3. 5. 5. 5. 4. 4. 4. 4. 4. 4. 4. 5. 5. 4.\n",
      " 5. 4. 5. 4. 5. 5. 3. 4. 5. 5. 5. 5. 5. 4. 5. 5. 5. 4. 3. 4. 5. 4. 4. 5.\n",
      " 5. 4. 4. 4. 4. 4.]\n"
     ]
    },
    {
     "data": {
      "image/png": "[encoded data removed]",
      "text/plain": [
       "<Figure size 432x288 with 1 Axes>"
      ]
     },
     "metadata": {
      "needs_background": "light"
     },
     "output_type": "display_data"
    }
   ],
   "source": [
    "X_binned = X_binned.squeeze() # make 1-d array\n",
    "print(X_binned)\n",
    "ax=sns.swarmplot(x=y,y=X_binned,hue=y)"
   ]
  },
  {
   "cell_type": "code",
   "execution_count": 14,
   "metadata": {},
   "outputs": [
    {
     "name": "stdout",
     "output_type": "stream",
     "text": [
      "50\n",
      "[0. 0. 0. 1. 0. 1. 0. 1. 0. 1. 1. 1. 0. 0. 0. 1. 0. 0. 1. 1. 1. 1. 0. 1.\n",
      " 1. 1. 1. 1. 0. 1. 1. 1. 1. 0. 1. 0. 0. 0. 0. 1. 0. 0. 0. 1. 1. 0. 1. 0.\n",
      " 1. 0.]\n",
      "[3. 3. 4. 2. 3. 3. 3. 2. 3. 2. 2. 2. 2. 3. 2. 3. 3. 2. 3. 2. 3. 2. 4. 3.\n",
      " 2. 3. 3. 4. 3. 2. 2. 2. 2. 4. 3. 3. 3. 3. 2. 2. 3. 3. 2. 2. 2. 2. 2. 2.\n",
      " 2. 2.]\n",
      "[5. 4. 5. 5. 5. 5. 3. 5. 5. 5. 4. 4. 4. 4. 4. 4. 4. 5. 5. 4. 5. 4. 5. 4.\n",
      " 5. 5. 3. 4. 5. 5. 5. 5. 5. 4. 5. 5. 5. 4. 3. 4. 5. 4. 4. 5. 5. 4. 4. 4.\n",
      " 4. 4.]\n"
     ]
    },
    {
     "data": {
      "text/plain": [
       "array([1.        , 1.5       , 2.63333333, 4.35      , 4.9       ,\n",
       "       5.51666667, 6.9       ])"
      ]
     },
     "execution_count": 14,
     "metadata": {},
     "output_type": "execute_result"
    }
   ],
   "source": [
    "print(len(X_binned[y==0])) #count in class zero\n",
    "print(X_binned[y==0])\n",
    "print(X_binned[y==1])\n",
    "print(X_binned[y==2])\n",
    "enc.bin_edges_[0] #bin category"
   ]
  },
  {
   "cell_type": "markdown",
   "metadata": {},
   "source": [
    "From the above data, we count how many data points are in X1 bins for each class Y. Fill up the last row.\n",
    "\n",
    "| X1=0  | X1=1  | X1=2 | X1=3  | X1=4 |  X1=5  | Y  |\n",
    "|-----|-----|----|-----|-----|-----|----|\n",
    "| 24  | 26  | 0  |  0  |  0  |  0  | 0  |\n",
    "| 0   | 0   | 25 | 21  |  4  |  0  | 1  |\n",
    "\n",
    "\n",
    "Do the same with another attribute (see below)\n"
   ]
  },
  {
   "cell_type": "code",
   "execution_count": null,
   "metadata": {},
   "outputs": [],
   "source": [
    "X = 1\n",
    "Y = 3\n",
    "Bin = 0,1,2,3,4,5\n",
    "      0,0,0,3,22,25"
   ]
  },
  {
   "cell_type": "code",
   "execution_count": 10,
   "metadata": {},
   "outputs": [
    {
     "name": "stdout",
     "output_type": "stream",
     "text": [
      "[1. 0. 0. 0. 1. 2. 0. 1. 0. 0. 2. 0. 0. 0. 3. 2. 2. 1. 2. 1. 2. 1. 0. 1.\n",
      " 0. 1. 1. 1. 1. 0. 0. 2. 1. 2. 0. 1. 2. 0. 0. 1. 1. 0. 0. 1. 1. 0. 1. 0.\n",
      " 1. 1.]\n",
      "[5. 4. 5. 2. 4. 2. 4. 0. 4. 1. 1. 3. 3. 3. 2. 5. 2. 3. 3. 2. 3. 3. 4. 3.\n",
      " 4. 4. 5. 5. 3. 2. 2. 2. 3. 3. 2. 3. 5. 4. 2. 2. 2. 3. 3. 1. 2. 2. 2. 3.\n",
      " 1. 2.]\n",
      "[4. 3. 5. 4. 4. 5. 0. 5. 5. 5. 4. 4. 5. 2. 3. 4. 4. 5. 5. 3. 5. 2. 5. 4.\n",
      " 5. 5. 3. 3. 4. 5. 5. 5. 4. 4. 3. 5. 4. 4. 3. 5. 5. 5. 3. 5. 5. 5. 4. 4.\n",
      " 3. 3.]\n"
     ]
    },
    {
     "data": {
      "text/plain": [
       "array([4.3, 5. , 5.4, 5.8, 6.3, 6.7, 7.9])"
      ]
     },
     "execution_count": 10,
     "metadata": {},
     "output_type": "execute_result"
    }
   ],
   "source": [
    "X = iris.data[:,0] #sepal length\n",
    "X = X.reshape(-1, 1)\n",
    "enc = preprocessing.KBinsDiscretizer(n_bins=6, encode='ordinal').fit(X)\n",
    "X_binned = enc.fit_transform(X)\n",
    "X_binned = X_binned.squeeze() # make 1-d array\n",
    "print(X_binned[y==0])\n",
    "print(X_binned[y==1])\n",
    "print(X_binned[y==2])\n",
    "enc.bin_edges_[0] #bin"
   ]
  },
  {
   "cell_type": "markdown",
   "metadata": {},
   "source": [
    "Lets say now i have a new specimen X1=2, X2=3, what is the most probable class?\n",
    "\n",
    "To calculate $P(y|x_{1},..,x_{n}) \\propto P(y)\\prod_{i=1}^{n}{P(x_{i}|y)}$ \n",
    "\n",
    "We just look up the tables we have created:\n",
    "\n",
    "$P(Y=0 | X1=2, X2=3) = (1/3)(0/50)(1/50)$\n",
    "\n",
    "This is the probability of belonging to Class Y=0, given that the data we have is X1=2 and X2=3.\n",
    "\n",
    "One of the values is zero, in case this we use a small value instead of zero so that the zero will not mask out other contribution from different attribute.\n",
    "\n",
    "$P(Y=0 | X1=2, X2=3) = (1/3)(1/50)(1/50) = 0.00013$\n",
    "\n",
    "### Question\n",
    "\n",
    "1. Calculate the rest to find out which class is most probable for new specimen X1=2, X2=3\n",
    "2. Calculate which class is most probable if the sepal length=5.1 and petal length=3.0 \n",
    "\n"
   ]
  },
  {
   "cell_type": "markdown",
   "metadata": {},
   "source": [
    "| X2=0  | X2=1  | X2=2 | X2=3  | X2=4 |  X2=5  | Y  |\n",
    "|-----|-----|----|-----|-----|-----|----|\n",
    "| 20  | 20  | 9  |  1  |  0  |  0  | 0  |\n",
    "| 1   | 4   | 16  | 15  |  8  |  6  | 1  |\n"
   ]
  },
  {
   "cell_type": "code",
   "execution_count": null,
   "metadata": {},
   "outputs": [],
   "source": [
    "X = 2\n",
    "Y = 3\n",
    "Bin = 0,1,2,3,4,5\n",
    "      1,0,2,10,15,22"
   ]
  },
  {
   "cell_type": "code",
   "execution_count": 1,
   "metadata": {},
   "outputs": [
    {
     "ename": "SyntaxError",
     "evalue": "invalid syntax (<ipython-input-1-87eddf09cc63>, line 1)",
     "output_type": "error",
     "traceback": [
      "\u001b[1;36m  File \u001b[1;32m\"<ipython-input-1-87eddf09cc63>\"\u001b[1;36m, line \u001b[1;32m1\u001b[0m\n\u001b[1;33m    1. 𝑃(𝑌=0|𝑋1=2,𝑋2=3)=(1/3)(1/50)(1/50)=0.00013\u001b[0m\n\u001b[1;37m       ^\u001b[0m\n\u001b[1;31mSyntaxError\u001b[0m\u001b[1;31m:\u001b[0m invalid syntax\n"
     ]
    }
   ],
   "source": [
    "1. \n",
    "𝑃(𝑌=0|𝑋1=2,𝑋2=3)=(1/3)(1/50)(1/50)=0.00013\n",
    " \n",
    "𝑃(𝑌=1|𝑋1=2,𝑋2=3)=(1/3)(25/50)(15/50)=0.0495\n",
    "\n",
    "#original ->𝑃(𝑌=2|𝑋1=2,𝑋2=3)=(1/3)(0/50)(10/50)\n",
    "𝑃(𝑌=2|𝑋1=2,𝑋2=3)=(1/3)(1/50)(10/50)=0.00132\n",
    "\n",
    "2. \n",
    "X1 = Petal length X2 = Sepal Length\n",
    "X1= 2, X2= 1\n",
    "\n",
    "𝑃(𝑌=0|𝑋1=2,𝑋2=1)=(1/3)(1/50)(20/50)= 0.0026\n",
    " \n",
    "𝑃(𝑌=1|𝑋1=2,𝑋2=1)=(1/3)(25/50)(4/50)= 0.0132\n",
    "\n",
    "𝑃(𝑌=2|𝑋1=2,𝑋2=1)=(1/3)(1/50)(1/50)= 0.000132"
   ]
  },
  {
   "cell_type": "markdown",
   "metadata": {},
   "source": [
    "\n",
    "Given data as below:\n",
    "\n",
    "    @attribute outlook {sunny, overcast, rainy}\n",
    "    @attribute temperature {high, low}\n",
    "    @attribute humidity {high, low}\n",
    "    @attribute windy {TRUE, FALSE}\n",
    "    @class     play {yes, no}\n",
    "\n",
    "    @data\n",
    "    sunny,high,high,FALSE,no\n",
    "    sunny,high,high,TRUE,no\n",
    "    overcast,high,high,FALSE,yes\n",
    "    rainy,low,high,FALSE,yes\n",
    "    rainy,low,high,FALSE,yes\n",
    "    rainy,low,low,TRUE,no\n",
    "    overcast,low,low,TRUE,yes\n",
    "    sunny,high,high,FALSE,no\n",
    "    sunny,low,high,FALSE,yes\n",
    "    rainy,high,high,FALSE,yes\n",
    "    sunny,high,low,TRUE,yes\n",
    "    overcast,high,high,TRUE,yes\n",
    "    overcast,high,high,FALSE,yes\n",
    "    rainy,high,high,TRUE,no\n",
    "\n",
    "\n",
    "### Question \n",
    "1. Should i play if outlook=ovecast, temperate=low, humidity=high, windy=TRUE?"
   ]
  },
  {
   "cell_type": "code",
   "execution_count": 12,
   "metadata": {},
   "outputs": [
    {
     "ename": "SyntaxError",
     "evalue": "invalid syntax (<ipython-input-12-6d0636126777>, line 16)",
     "output_type": "error",
     "traceback": [
      "\u001b[1;36m  File \u001b[1;32m\"<ipython-input-12-6d0636126777>\"\u001b[1;36m, line \u001b[1;32m16\u001b[0m\n\u001b[1;33m    P(yes)P(overcast|yes)P(low|yes)P(high|yes)P(true|yes)\u001b[0m\n\u001b[1;37m          ^\u001b[0m\n\u001b[1;31mSyntaxError\u001b[0m\u001b[1;31m:\u001b[0m invalid syntax\n"
     ]
    }
   ],
   "source": [
    "P(Play(yes)) = 9/14 = 0.64\n",
    "P(Notplay(no)) = 5/14 = 0.36\n",
    "\n",
    "\n",
    "P(outlook=overcast| yes) = 4/9 = 0.44\n",
    "P(outlook=overcast| no) = 0/5 = 0\n",
    "P(temp=low| yes) = 4/9 =0.44\n",
    "P(temp=low| no) = 1/5 = 0.2\n",
    "P(humi=high| yes) = 7/9 = 0.77\n",
    "P(humi=high| no) = 4/5 = 0.8\n",
    "P(Windy=true | yes) = 3/9 = 0.33\n",
    "P(Windy=true | no) = 3/5 = 0.60\n",
    "\n",
    "\n",
    "\n",
    "P(yes)P(overcast|yes)P(low|yes)P(high|yes)P(true|yes)\n",
    "= (9/14)(4/9)(4/9)(7/9)(3/9)=(0.64)(0.44)(0.44)(0.77)(0.33)\n",
    "= 0.0314 = 3.14 %\n",
    "\n",
    "P(no)P(overcast|no)P(low|no)P(high|no)P(true|no)\n",
    "= (5/14)(1/5)(1/5)(4/5)(3/5) = (0.36)(0.2)(0.2)(0.8)(0.6)\n",
    "= 0.006912 = 0.69 %\n",
    "\n",
    "\n",
    "The answer is...\n",
    "yeess.. you can play... "
   ]
  },
  {
   "cell_type": "code",
   "execution_count": null,
   "metadata": {},
   "outputs": [],
   "source": []
  }
 ],
 "metadata": {
  "kernelspec": {
   "display_name": "Python 3",
   "language": "python",
   "name": "python3"
  },
  "language_info": {
   "codemirror_mode": {
    "name": "ipython",
    "version": 3
   },
   "file_extension": ".py",
   "mimetype": "text/x-python",
   "name": "python",
   "nbconvert_exporter": "python",
   "pygments_lexer": "ipython3",
   "version": "3.8.3"
  }
 },
 "nbformat": 4,
 "nbformat_minor": 4
}
